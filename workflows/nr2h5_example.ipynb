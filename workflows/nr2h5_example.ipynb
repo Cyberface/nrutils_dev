{
 "cells": [
  {
   "cell_type": "markdown",
   "metadata": {},
   "source": [
    "Key reference:\n",
    "https://dcc.ligo.org/DocDB/0123/T1500606/002/NRInjectionInfrastructure.pdf\n",
    "\n",
    "-- lionel.london@ligo.org 2016 --"
   ]
  },
  {
   "cell_type": "code",
   "execution_count": 5,
   "metadata": {
    "collapsed": false
   },
   "outputs": [
    {
     "ename": "ImportError",
     "evalue": "No module named romSpline",
     "output_type": "error",
     "traceback": [
      "\u001b[0;31m---------------------------------------------------------------------------\u001b[0m",
      "\u001b[0;31mImportError\u001b[0m                               Traceback (most recent call last)",
      "\u001b[0;32m<ipython-input-5-28e4dea87f08>\u001b[0m in \u001b[0;36m<module>\u001b[0;34m()\u001b[0m\n\u001b[1;32m      6\u001b[0m \u001b[0;32mfrom\u001b[0m \u001b[0mmatplotlib\u001b[0m\u001b[0;34m.\u001b[0m\u001b[0mpyplot\u001b[0m \u001b[0;32mimport\u001b[0m \u001b[0;34m*\u001b[0m\u001b[0;34m\u001b[0m\u001b[0m\n\u001b[1;32m      7\u001b[0m \u001b[0;32mfrom\u001b[0m \u001b[0mos\u001b[0m\u001b[0;34m.\u001b[0m\u001b[0mpath\u001b[0m \u001b[0;32mimport\u001b[0m \u001b[0mexpanduser\u001b[0m\u001b[0;34m\u001b[0m\u001b[0m\n\u001b[0;32m----> 8\u001b[0;31m \u001b[0;32mimport\u001b[0m \u001b[0mromSpline\u001b[0m\u001b[0;34m\u001b[0m\u001b[0m\n\u001b[0m\u001b[1;32m      9\u001b[0m \u001b[0;31m# Import needed libs\u001b[0m\u001b[0;34m\u001b[0m\u001b[0;34m\u001b[0m\u001b[0m\n\u001b[1;32m     10\u001b[0m \u001b[0msystem\u001b[0m\u001b[0;34m(\u001b[0m\u001b[0;34m'clear'\u001b[0m\u001b[0;34m)\u001b[0m\u001b[0;34m\u001b[0m\u001b[0m\n",
      "\u001b[0;31mImportError\u001b[0m: No module named romSpline"
     ]
    }
   ],
   "source": [
    "# Import useful things\n",
    "from os import system, remove, makedirs, path\n",
    "from os.path import dirname, basename, isdir, realpath\n",
    "from numpy import array,ones,pi,loadtxt,hstack\n",
    "from numpy.linalg import norm\n",
    "from matplotlib.pyplot import *\n",
    "from os.path import expanduser\n",
    "# Import needed libs\n",
    "system('clear')\n",
    "\n",
    "#\n",
    "from nrutils import alert,nr2h5,scsearch,gwylm,alert\n",
    "from nrutils.tools.unit.conversion import *\n",
    "\n",
    "#\n",
    "this_script = 'nr2h5_example'"
   ]
  },
  {
   "cell_type": "code",
   "execution_count": 2,
   "metadata": {
    "collapsed": false
   },
   "outputs": [
    {
     "name": "stdout",
     "output_type": "stream",
     "text": [
      "(\u001b[96mnr2h5_example\u001b[0m)>> Finding NR simulation catalog objects for realted HDF5 creation. This script is specialized to  work with BAM data.\n",
      "[scsearch]>> Found \u001b[4mkeyword\u001b[0m (='q1.2_base_96') keyword.\n",
      "[scsearch]>> Found \u001b[4mverbose\u001b[0m (=True) keyword.\n",
      "## Found \u001b[1m1\u001b[0m\u001b[95m possibly degenerate\u001b[0m simulations:\n",
      "[0001] \u001b[96mq1.2_base_96\u001b[0m: qc-p-q1.20\n",
      "\n"
     ]
    }
   ],
   "source": [
    "# Search for simulations: Use the CFUIB high resolution base case\n",
    "alert('Finding NR simulation catalog objects for realted HDF5 creation. This script is specialized to  work with BAM data.',this_script )\n",
    "A = scsearch(keyword='q1.2_base_96',verbose=True)"
   ]
  },
  {
   "cell_type": "code",
   "execution_count": 3,
   "metadata": {
    "collapsed": false
   },
   "outputs": [
    {
     "name": "stdout",
     "output_type": "stream",
     "text": [
      "(\u001b[96mnr2h5_example\u001b[0m)>> Manually defining extration radius to use for cropping of NR data. This is realted to the extration parameter in the institutes config file, and allows the calculation of the retarded time, t_retarded = t + extraction_radius\n"
     ]
    }
   ],
   "source": [
    "# Extraction radius found using the \"r\" parameter in the realted config file for bam runs as well as a mapping of this to the actual extration radius as given by the bbh metadata files.\n",
    "alert('Manually defining extration radius to use for cropping of NR data. This is realted to the extration parameter in the institute''s config file, and allows the calculation of the retarded time, t_retarded = t + extraction_radius',this_script )\n",
    "extraction_radius = 140"
   ]
  },
  {
   "cell_type": "code",
   "execution_count": 4,
   "metadata": {
    "collapsed": false,
    "scrolled": false
   },
   "outputs": [
    {
     "name": "stdout",
     "output_type": "stream",
     "text": [
      "(\u001b[96mnr2h5_example\u001b[0m)>> Load and crop all waveforms. Waveforms will start at the after_junkradiation_time noted in the .bbh metadata\n",
      "(\u001b[96mgwylm\u001b[0m)>> Found \u001b[4mclean\u001b[0m (=False) keyword.\n",
      "(\u001b[96mgwylm\u001b[0m)>> Found \u001b[4mlmax\u001b[0m (=3) keyword.\n",
      "(\u001b[96mgwylm\u001b[0m)>> Found \u001b[4mload\u001b[0m (=True) keyword.\n",
      "(\u001b[96mgwylm\u001b[0m)>> Found \u001b[4mscentry_obj\u001b[0m (=<nrutils.core.nrsc.scentry instance at 0x1156b69e0>) keyword.\n",
      "(\u001b[96mgwylm\u001b[0m)>> Found \u001b[4mverbose\u001b[0m (=True) keyword.\n",
      "(\u001b[96mgwylm\u001b[0m)>> Found \u001b[4mw22\u001b[0m (=0.061) keyword.\n",
      "(\u001b[96mload\u001b[0m)>> Loading: \u001b[96mpsi3col.r5.l5.l2.m-2.gz\u001b[0m\n",
      "(\u001b[96mload\u001b[0m)>> \u001b[93mRe-orienting waveform phase\u001b[0m to be consistent with internal sign convention for Psi4, where sign(dPhi/dt)=1*sign(m). Note that the internal sign convention is defined in ... nrutils/core/__init__.py as \"M_RELATIVE_SIGN_CONVENTION\". This message has appeared becuase the waveform is determioned to obey and sign convention: sign(dPhi/dt)=-1*sign(m).\n",
      "(\u001b[96mload\u001b[0m)>> Loading: \u001b[96mpsi3col.r5.l5.l2.m-1.gz\u001b[0m\n",
      "(\u001b[96mload\u001b[0m)>> \u001b[93mRe-orienting waveform phase\u001b[0m to be consistent with internal sign convention for Psi4, where sign(dPhi/dt)=1*sign(m). Note that the internal sign convention is defined in ... nrutils/core/__init__.py as \"M_RELATIVE_SIGN_CONVENTION\". This message has appeared becuase the waveform is determioned to obey and sign convention: sign(dPhi/dt)=-1*sign(m).\n",
      "(\u001b[96mload\u001b[0m)>> Loading: \u001b[96mpsi3col.r5.l5.l2.m0.gz\u001b[0m\n",
      "(\u001b[96mload\u001b[0m)>> \u001b[93mRe-orienting waveform phase\u001b[0m to be consistent with internal sign convention for Psi4, where sign(dPhi/dt)=1*sign(m). Note that the internal sign convention is defined in ... nrutils/core/__init__.py as \"M_RELATIVE_SIGN_CONVENTION\". This message has appeared becuase the waveform is determioned to obey and sign convention: sign(dPhi/dt)=0*sign(m).\n",
      "(\u001b[96mload\u001b[0m)>> Loading: \u001b[96mpsi3col.r5.l5.l2.m1.gz\u001b[0m\n",
      "(\u001b[96mload\u001b[0m)>> \u001b[93mRe-orienting waveform phase\u001b[0m to be consistent with internal sign convention for Psi4, where sign(dPhi/dt)=1*sign(m). Note that the internal sign convention is defined in ... nrutils/core/__init__.py as \"M_RELATIVE_SIGN_CONVENTION\". This message has appeared becuase the waveform is determioned to obey and sign convention: sign(dPhi/dt)=-1*sign(m).\n",
      "(\u001b[96mload\u001b[0m)>> Loading: \u001b[96mpsi3col.r5.l5.l2.m2.gz\u001b[0m\n",
      "(\u001b[96mload\u001b[0m)>> \u001b[93mRe-orienting waveform phase\u001b[0m to be consistent with internal sign convention for Psi4, where sign(dPhi/dt)=1*sign(m). Note that the internal sign convention is defined in ... nrutils/core/__init__.py as \"M_RELATIVE_SIGN_CONVENTION\". This message has appeared becuase the waveform is determioned to obey and sign convention: sign(dPhi/dt)=-1*sign(m).\n",
      "(\u001b[96mload\u001b[0m)>> Loading: \u001b[96mpsi3col.r5.l5.l3.m-3.gz\u001b[0m\n",
      "(\u001b[96mload\u001b[0m)>> \u001b[93mRe-orienting waveform phase\u001b[0m to be consistent with internal sign convention for Psi4, where sign(dPhi/dt)=1*sign(m). Note that the internal sign convention is defined in ... nrutils/core/__init__.py as \"M_RELATIVE_SIGN_CONVENTION\". This message has appeared becuase the waveform is determioned to obey and sign convention: sign(dPhi/dt)=-1*sign(m).\n",
      "(\u001b[96mload\u001b[0m)>> Loading: \u001b[96mpsi3col.r5.l5.l3.m-2.gz\u001b[0m\n",
      "(\u001b[96mload\u001b[0m)>> \u001b[93mRe-orienting waveform phase\u001b[0m to be consistent with internal sign convention for Psi4, where sign(dPhi/dt)=1*sign(m). Note that the internal sign convention is defined in ... nrutils/core/__init__.py as \"M_RELATIVE_SIGN_CONVENTION\". This message has appeared becuase the waveform is determioned to obey and sign convention: sign(dPhi/dt)=-1*sign(m).\n",
      "(\u001b[96mload\u001b[0m)>> Loading: \u001b[96mpsi3col.r5.l5.l3.m-1.gz\u001b[0m\n",
      "(\u001b[96mload\u001b[0m)>> \u001b[93mRe-orienting waveform phase\u001b[0m to be consistent with internal sign convention for Psi4, where sign(dPhi/dt)=1*sign(m). Note that the internal sign convention is defined in ... nrutils/core/__init__.py as \"M_RELATIVE_SIGN_CONVENTION\". This message has appeared becuase the waveform is determioned to obey and sign convention: sign(dPhi/dt)=-1*sign(m).\n",
      "(\u001b[96mload\u001b[0m)>> Loading: \u001b[96mpsi3col.r5.l5.l3.m0.gz\u001b[0m\n",
      "(\u001b[96mload\u001b[0m)>> \u001b[93mRe-orienting waveform phase\u001b[0m to be consistent with internal sign convention for Psi4, where sign(dPhi/dt)=1*sign(m). Note that the internal sign convention is defined in ... nrutils/core/__init__.py as \"M_RELATIVE_SIGN_CONVENTION\". This message has appeared becuase the waveform is determioned to obey and sign convention: sign(dPhi/dt)=0*sign(m).\n",
      "(\u001b[96mload\u001b[0m)>> Loading: \u001b[96mpsi3col.r5.l5.l3.m1.gz\u001b[0m\n",
      "(\u001b[96mload\u001b[0m)>> \u001b[93mRe-orienting waveform phase\u001b[0m to be consistent with internal sign convention for Psi4, where sign(dPhi/dt)=1*sign(m). Note that the internal sign convention is defined in ... nrutils/core/__init__.py as \"M_RELATIVE_SIGN_CONVENTION\". This message has appeared becuase the waveform is determioned to obey and sign convention: sign(dPhi/dt)=-1*sign(m).\n",
      "(\u001b[96mload\u001b[0m)>> Loading: \u001b[96mpsi3col.r5.l5.l3.m2.gz\u001b[0m\n",
      "(\u001b[96mload\u001b[0m)>> \u001b[93mRe-orienting waveform phase\u001b[0m to be consistent with internal sign convention for Psi4, where sign(dPhi/dt)=1*sign(m). Note that the internal sign convention is defined in ... nrutils/core/__init__.py as \"M_RELATIVE_SIGN_CONVENTION\". This message has appeared becuase the waveform is determioned to obey and sign convention: sign(dPhi/dt)=-1*sign(m).\n",
      "(\u001b[96mload\u001b[0m)>> Loading: \u001b[96mpsi3col.r5.l5.l3.m3.gz\u001b[0m\n",
      "(\u001b[96mload\u001b[0m)>> \u001b[93mRe-orienting waveform phase\u001b[0m to be consistent with internal sign convention for Psi4, where sign(dPhi/dt)=1*sign(m). Note that the internal sign convention is defined in ... nrutils/core/__init__.py as \"M_RELATIVE_SIGN_CONVENTION\". This message has appeared becuase the waveform is determioned to obey and sign convention: sign(dPhi/dt)=-1*sign(m).\n",
      "(\u001b[96mgwylm\u001b[0m)>> Using w22 from \u001b[1m\u001b[95muser input\u001b[0m\u001b[0m to calculate strain multipoles.\n",
      "\u001b[93m>> w0 = -0.061000\u001b[0m\n",
      "\u001b[93m>> w0 = -0.030500\u001b[0m\n",
      "\u001b[93m>> w0 = 0.061000\u001b[0m\n",
      "\u001b[93m>> w0 = 0.030500\u001b[0m\n",
      "\u001b[93m>> w0 = 0.061000\u001b[0m\n",
      "\u001b[93m>> w0 = -0.091500\u001b[0m\n",
      "\u001b[93m>> w0 = -0.061000\u001b[0m\n",
      "\u001b[93m>> w0 = -0.030500\u001b[0m\n",
      "\u001b[93m>> w0 = 0.061000\u001b[0m\n",
      "\u001b[93m>> w0 = 0.030500\u001b[0m\n",
      "\u001b[93m>> w0 = 0.061000\u001b[0m\n",
      "\u001b[93m>> w0 = 0.091500\u001b[0m\n",
      "(\u001b[96mnr2h5_example\u001b[0m)>> Defining parameters needed to make hdf5 files from runs: metadata, file io strings\n",
      "(\u001b[96mnr2h5_example\u001b[0m)>> Creating universal time series using sum of l=2 multipoles.\n",
      "(\u001b[96mnr2h5_example\u001b[0m)>> Creating dictionary of strain multipoles\n",
      "(\u001b[96mnr2h5_example\u001b[0m)>> Creating metadata input for nr2h5\n",
      ">> Old f_lower_at_1MSUN = 1644.370269\n",
      ">> New f_lower_at_1MSUN = 1783.766258\n",
      "(\u001b[96mnr2h5_example\u001b[0m)>> Creating HDF5 files:\n"
     ]
    },
    {
     "ename": "ImportError",
     "evalue": "No module named romSpline",
     "output_type": "error",
     "traceback": [
      "\u001b[0;31m---------------------------------------------------------------------------\u001b[0m",
      "\u001b[0;31mImportError\u001b[0m                               Traceback (most recent call last)",
      "\u001b[0;32m<ipython-input-4-fa5d07d06457>\u001b[0m in \u001b[0;36m<module>\u001b[0;34m()\u001b[0m\n\u001b[1;32m     82\u001b[0m     \u001b[0;31m# ------------------------------------------------------- #\u001b[0m\u001b[0;34m\u001b[0m\u001b[0;34m\u001b[0m\u001b[0m\n\u001b[1;32m     83\u001b[0m     \u001b[0malert\u001b[0m\u001b[0;34m(\u001b[0m\u001b[0;34m'Creating HDF5 files:'\u001b[0m\u001b[0;34m,\u001b[0m\u001b[0mthis_script\u001b[0m \u001b[0;34m)\u001b[0m\u001b[0;34m\u001b[0m\u001b[0m\n\u001b[0;32m---> 84\u001b[0;31m     \u001b[0mnr2h5\u001b[0m\u001b[0;34m(\u001b[0m \u001b[0mnr_strain_data\u001b[0m\u001b[0;34m,\u001b[0m \u001b[0mnr_meta_data\u001b[0m\u001b[0;34m,\u001b[0m \u001b[0moutput_path\u001b[0m\u001b[0;34m=\u001b[0m\u001b[0moutput_path\u001b[0m\u001b[0;34m,\u001b[0m \u001b[0mverbose\u001b[0m\u001b[0;34m=\u001b[0m\u001b[0mTrue\u001b[0m \u001b[0;34m)\u001b[0m\u001b[0;34m\u001b[0m\u001b[0m\n\u001b[0m",
      "\u001b[0;32m/Users/book/JOKI/Libs/KOALA/nrutils_dev/nrutils/manipulate/bundlers.pyc\u001b[0m in \u001b[0;36mnr2h5\u001b[0;34m(nr_strain_data, nr_meta_data, output_path, verbose)\u001b[0m\n\u001b[1;32m     26\u001b[0m     \u001b[0;32mfrom\u001b[0m \u001b[0mos\u001b[0m\u001b[0;34m.\u001b[0m\u001b[0mpath\u001b[0m \u001b[0;32mimport\u001b[0m \u001b[0mexpanduser\u001b[0m\u001b[0;34m\u001b[0m\u001b[0m\n\u001b[1;32m     27\u001b[0m     \u001b[0;32mfrom\u001b[0m \u001b[0mnumpy\u001b[0m \u001b[0;32mimport\u001b[0m \u001b[0marray\u001b[0m\u001b[0;34m,\u001b[0m \u001b[0mdiff\u001b[0m\u001b[0;34m\u001b[0m\u001b[0m\n\u001b[0;32m---> 28\u001b[0;31m     \u001b[0;32mimport\u001b[0m \u001b[0mromSpline\u001b[0m\u001b[0;34m\u001b[0m\u001b[0m\n\u001b[0m\u001b[1;32m     29\u001b[0m     \u001b[0;32mimport\u001b[0m \u001b[0mh5py\u001b[0m\u001b[0;34m\u001b[0m\u001b[0m\n\u001b[1;32m     30\u001b[0m \u001b[0;34m\u001b[0m\u001b[0m\n",
      "\u001b[0;31mImportError\u001b[0m: No module named romSpline"
     ]
    }
   ],
   "source": [
    "#\n",
    "alert('Load and crop all waveforms. Waveforms will start at the after_junkradiation_time noted in the .bbh metadata',this_script )\n",
    "for a in A:\n",
    "\n",
    "    # Convert a single simulation into a waveform object with desired multipoles\n",
    "    y = gwylm( scentry_obj = a, lmax=3, verbose=True, w22 = 0.061 )\n",
    "\n",
    "    # Crop initial junk radiation from waveform without smooth windowing to be consistent with the infrastructure's conventions\n",
    "    y.clean( method='crop', crop_time=float(a.raw_metadata.after_junkradiation_time)+extraction_radius  )\n",
    "\n",
    "    # # plot the waveform(s)\n",
    "    # y.plot(show=True,kind='strain')\n",
    "\n",
    "    # ------------------------------------------------------- #\n",
    "    # Parameters needed to make hdf5 file.\n",
    "    # ------------------------------------------------------- #\n",
    "    alert('Defining parameters needed to make hdf5 files from runs: metadata, file io strings',this_script )\n",
    "\n",
    "    # Name of hdf5 file to create, includes file extension\n",
    "    if a.simdir()[-1] == '/':\n",
    "        run_label = a.simdir().split('/')[-2]\n",
    "    else:\n",
    "        run_label = a.simdir().split('/')[-1]\n",
    "\n",
    "    # Where to save hdf5 file\n",
    "    output_path = '/Users/book/JOKI/Libs/KOALA/nrutils_dev/review/data/%s.h5' % run_label\n",
    "\n",
    "    # Define universal time data to be the max of the sum of the l=2 multipoles^2\n",
    "    alert('Creating universal time series using sum of l=2 multipoles.',this_script )\n",
    "    universal_amp =   [ k for k in y.hlm if (k.m==2 and k.l==2) ][0].amp**2 \\\n",
    "                    + [ k for k in y.hlm if (k.m==1 and k.l==2) ][0].amp**2 \\\n",
    "                    + [ k for k in y.hlm if (k.m==0 and k.l==2) ][0].amp**2 \\\n",
    "                    + [ k for k in y.hlm if (k.m==-1 and k.l==2) ][0].amp**2 \\\n",
    "                    + [ k for k in y.hlm if (k.m==-2 and k.l==2) ][0].amp**2\n",
    "    # Seed universal time array with the l=m=2 time\n",
    "    universal_t = [ k for k in y.hlm if (k.m==2 and k.l==2) ][0].t\n",
    "    # Center universal time about peak\n",
    "    universal_t -= universal_t[ list(universal_amp).index( max(universal_amp) ) ]\n",
    "    # Name the l=m=2 strain for use later\n",
    "    h22 = [ k for k in y.hlm if (k.m==2 and k.l==2) ][0]\n",
    "\n",
    "    # Create dictionary of mode coordinates and waveform data\n",
    "    alert('Creating dictionary of strain multipoles',this_script )\n",
    "    nr_strain_data = {}\n",
    "    for hlm in y.hlm:\n",
    "        # NOTE that there's a -1 factored into the phase as the NR infrastructure uses the opposite sign convention compared to nrutils\n",
    "        nr_strain_data[  ( hlm.l, hlm.m )  ] = { 'amp':hlm.amp, 'phase': -1.0*hlm.phi, 't':universal_t }\n",
    "\n",
    "    #\n",
    "    alert('Creating metadata input for nr2h5',this_script )\n",
    "    Lhat = (y.L1 + y.L2)   / norm( y.L1 + y.L2 )\n",
    "    nhat = -( y.R2 - y.R1 ) / norm( y.R2 - y.R1 )\n",
    "    # Define attributes\n",
    "    nr_meta_data = {}\n",
    "    nr_meta_data['NR-group'] = y.config.institute\n",
    "    nr_meta_data['type'] = y.label\n",
    "    nr_meta_data['name'] = y.setname\n",
    "    nr_meta_data['object1'] = 'BH'\n",
    "    nr_meta_data['object2'] = 'BH'\n",
    "    nr_meta_data['mass1'] = y.m1\n",
    "    nr_meta_data['mass2'] = y.m2\n",
    "    nr_meta_data['eta'] = y.m1*y.m2 / (y.m1+y.m2)**2\n",
    "    nr_meta_data['spin1x'] = y.S1[0] / (y.m1**2)\n",
    "    nr_meta_data['spin1y'] = y.S1[1] / (y.m1**2)\n",
    "    nr_meta_data['spin1z'] = y.S1[2] / (y.m1**2)\n",
    "    nr_meta_data['spin2x'] = y.S2[0] / (y.m2**2)\n",
    "    nr_meta_data['spin2y'] = y.S2[1] / (y.m2**2)\n",
    "    nr_meta_data['spin2z'] = y.S2[2] / (y.m2**2)\n",
    "    nr_meta_data['LNhatx'] = Lhat[0]\n",
    "    nr_meta_data['LNhaty'] = Lhat[1]\n",
    "    nr_meta_data['LNhatz'] = Lhat[2]\n",
    "    nr_meta_data['nhatx'] = nhat[0]\n",
    "    nr_meta_data['nhaty'] = nhat[1]\n",
    "    nr_meta_data['nhatz'] = nhat[2]\n",
    "    # nr_meta_data['f_lower_at_1MSUN'] = physf( y.raw_metadata.freq_start_22/(2.0*pi) , 1.0 ) # here the \"1\" is for 1 solar mass\n",
    "    nr_meta_data['f_lower_at_1MSUN'] = physf( h22.dphi[0]/(2.0*pi) , 1.0 ) # here the \"1\" is for 1 solar mass\n",
    "    print '>> Old f_lower_at_1MSUN = %f' % physf( y.raw_metadata.freq_start_22/(2.0*pi) , 1.0 )\n",
    "    print '>> New f_lower_at_1MSUN = %f' % nr_meta_data['f_lower_at_1MSUN']\n",
    "    nr_meta_data['eccentricity'] =  y.raw_metadata.eccentricity\n",
    "    nr_meta_data['PN_approximant'] = 'None'\n",
    "    nr_meta_data['coa_phase'] = 0\n",
    "\n",
    "\n",
    "    # ------------------------------------------------------- #\n",
    "    # Call nr2h5 to make hdf5 file\n",
    "    # ------------------------------------------------------- #\n",
    "    alert('Creating HDF5 files:',this_script )\n",
    "    nr2h5( nr_strain_data, nr_meta_data, output_path=output_path, verbose=True )"
   ]
  },
  {
   "cell_type": "code",
   "execution_count": null,
   "metadata": {
    "collapsed": true
   },
   "outputs": [],
   "source": []
  }
 ],
 "metadata": {
  "kernelspec": {
   "display_name": "Python 2",
   "language": "python",
   "name": "python2"
  },
  "language_info": {
   "codemirror_mode": {
    "name": "ipython",
    "version": 2
   },
   "file_extension": ".py",
   "mimetype": "text/x-python",
   "name": "python",
   "nbconvert_exporter": "python",
   "pygments_lexer": "ipython2",
   "version": "2.7.10"
  }
 },
 "nbformat": 4,
 "nbformat_minor": 0
}
