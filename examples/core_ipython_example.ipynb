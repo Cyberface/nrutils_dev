{
 "cells": [
  {
   "cell_type": "code",
   "execution_count": 2,
   "metadata": {
    "collapsed": false
   },
   "outputs": [],
   "source": [
    "from nrutils.core.nrsc import *"
   ]
  },
  {
   "cell_type": "code",
   "execution_count": 3,
   "metadata": {
    "collapsed": false
   },
   "outputs": [
    {
     "name": "stdout",
     "output_type": "stream",
     "text": [
      "[scsearch]>> Found \u001b[4minstitute\u001b[0m (='sxs') keyword.\n",
      "[scsearch]>> Found \u001b[4mnonspinning\u001b[0m (=True) keyword.\n",
      "[scsearch]>> Found \u001b[4mq\u001b[0m (=[1, 10]) keyword.\n",
      "[scsearch]>> Found \u001b[4munique\u001b[0m (=True) keyword.\n",
      "[scsearch]>> Found \u001b[4mverbose\u001b[0m (=True) keyword.\n",
      "## Found \u001b[1m25\u001b[0m\u001b[92m unique\u001b[0m simulations:\n",
      "[0001] \u001b[96mSXS0002\u001b[0m: qc-ns-q1.00\n",
      "[0002] \u001b[96mSXS0198\u001b[0m: qc-ns-q1.20\n",
      "[0003] \u001b[96mSXS0007\u001b[0m: qc-ns-q1.50\n",
      "[0004] \u001b[96mSXS0194\u001b[0m: qc-ns-q1.52\n",
      "[0005] \u001b[96mSXS0169\u001b[0m: qc-ns-q2.00\n",
      "[0006] \u001b[96mSXS0201\u001b[0m: qc-ns-q2.32\n",
      "[0007] \u001b[96mSXS0191\u001b[0m: qc-ns-q2.51\n",
      "[0008] \u001b[96mSXS0030\u001b[0m: qc-ns-q3.00\n",
      "[0009] \u001b[96mSXS0200\u001b[0m: qc-ns-q3.27\n",
      "[0010] \u001b[96mSXS0193\u001b[0m: qc-ns-q3.50\n",
      "[0011] \u001b[96mSXS0167\u001b[0m: qc-ns-q4.00\n",
      "[0012] \u001b[96mSXS0190\u001b[0m: qc-ns-q4.50\n",
      "[0013] \u001b[96mSXS0056\u001b[0m: qc-ns-q5.00\n",
      "[0014] \u001b[96mSXS0187\u001b[0m: qc-ns-q5.04\n",
      "[0015] \u001b[96mSXS0197\u001b[0m: qc-ns-q5.52\n",
      "[0016] \u001b[96mSXS0181\u001b[0m: qc-ns-q6.00\n",
      "[0017] \u001b[96mSXS0192\u001b[0m: qc-ns-q6.58\n",
      "[0018] \u001b[96mSXS0188\u001b[0m: qc-ns-q7.19\n",
      "[0019] \u001b[96mSXS0195\u001b[0m: qc-ns-q7.76\n",
      "[0020] \u001b[96mSXS0063\u001b[0m: qc-ns-q8.00\n",
      "[0021] \u001b[96mSXS0186\u001b[0m: qc-ns-q8.27\n",
      "[0022] \u001b[96mSXS0199\u001b[0m: qc-ns-q8.73\n",
      "[0023] \u001b[96mSXS0189\u001b[0m: qc-ns-q9.17\n",
      "[0024] \u001b[96mSXS0196\u001b[0m: qc-ns-q9.66\n",
      "[0025] \u001b[96mSXS0185\u001b[0m: qc-ns-q9.99\n",
      "\n"
     ]
    }
   ],
   "source": [
    "# Search for simulations\n",
    "A = scsearch(institute='sxs',nonspinning=True,q=[1,10],verbose=True,unique=True)\n",
    "# A = scsearch(precessing=True,q=[1,1.5],verbose=True,unique=True)\n",
    "# A = scsearch(keyword=\"base\",unique=True,verbose=True)\n"
   ]
  },
  {
   "cell_type": "code",
   "execution_count": 4,
   "metadata": {
    "collapsed": false
   },
   "outputs": [
    {
     "name": "stdout",
     "output_type": "stream",
     "text": [
      "(\u001b[96mgwylm\u001b[0m)>> Found \u001b[4mclean\u001b[0m (=False) keyword.\n",
      "(\u001b[96mgwylm\u001b[0m)>> Found \u001b[4mdt\u001b[0m (=0.4) keyword.\n",
      "(\u001b[96mgwylm\u001b[0m)>> Found \u001b[4mlm\u001b[0m (=[2, 2]) keyword.\n",
      "(\u001b[96mgwylm\u001b[0m)>> Found \u001b[4mload\u001b[0m (=True) keyword.\n",
      "(\u001b[96mgwylm\u001b[0m)>> Found \u001b[4mscentry_obj\u001b[0m (=<nrutils.core.nrsc.scentry instance at 0x11239d638>) keyword.\n",
      "(\u001b[96mgwylm\u001b[0m)>> Found \u001b[4mverbose\u001b[0m (=True) keyword.\n",
      "(\u001b[96mload\u001b[0m)>> Loading: \u001b[96mrMPsi4_Y_l2_m2.asc\u001b[0m\n",
      "\u001b[95m(**) Waveform not uniform in time-step. Interpolation will be applied.\u001b[0m\n",
      "\u001b[95m(**) Warning: No dt given to gwf(). We will assume that the input waveform array is in geometric units, and that dt = 0.385887 will more than suffice.\u001b[0m\n",
      "\u001b[95m(**) Waveform not uniform in time-step. Interpolation will be applied.\u001b[0m\n",
      "\u001b[95m(**) Warning: No dt given to gwf(). We will assume that the input waveform array is in geometric units, and that dt = 0.385887 will more than suffice.\u001b[0m\n",
      "(\u001b[96mload\u001b[0m)>> \u001b[93mRe-orienting waveform phase\u001b[0m to be consistent with internal sign convention for Psi4, where sign(dPhi/dt)=1*sign(m). Note that the internal sign convention is defined in ... nrutils/core/__init__.py as \"M_RELATIVE_SIGN_CONVENTION\".\n",
      "\u001b[93m>> w0 = 0.023033\u001b[0m\n"
     ]
    }
   ],
   "source": [
    "\n",
    "# Convert a single simulation into a waveform object with desired multipoles\n",
    "y = gwylm( scentry_obj = A[0], lm=[2,2], dt=0.4, verbose=True )\n",
    "\n"
   ]
  },
  {
   "cell_type": "code",
   "execution_count": 5,
   "metadata": {
    "collapsed": false
   },
   "outputs": [
    {
     "data": {
      "text/plain": [
       "[<matplotlib.axes._subplots.AxesSubplot at 0x11119da10>,\n",
       " <matplotlib.axes._subplots.AxesSubplot at 0x1111a3350>,\n",
       " <matplotlib.axes._subplots.AxesSubplot at 0x111244b50>]"
      ]
     },
     "execution_count": 5,
     "metadata": {},
     "output_type": "execute_result"
    }
   ],
   "source": [
    "# # Plot time domain strain\n",
    "# y.plot(kind='strain')\n",
    "\n",
    "# plot time domain psi4\n",
    "y.plot(kind='psi4',show=True)"
   ]
  },
  {
   "cell_type": "code",
   "execution_count": null,
   "metadata": {
    "collapsed": true
   },
   "outputs": [],
   "source": []
  }
 ],
 "metadata": {
  "kernelspec": {
   "display_name": "Python 2",
   "language": "python",
   "name": "python2"
  },
  "language_info": {
   "codemirror_mode": {
    "name": "ipython",
    "version": 2
   },
   "file_extension": ".py",
   "mimetype": "text/x-python",
   "name": "python",
   "nbconvert_exporter": "python",
   "pygments_lexer": "ipython2",
   "version": "2.7.10"
  }
 },
 "nbformat": 4,
 "nbformat_minor": 0
}
