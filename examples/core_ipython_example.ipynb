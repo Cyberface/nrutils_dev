{
 "cells": [
  {
   "cell_type": "markdown",
   "metadata": {
    "toc": "true"
   },
   "source": [
    "# Table of Contents\n",
    " <p>"
   ]
  },
  {
   "cell_type": "code",
   "execution_count": 1,
   "metadata": {
    "collapsed": false
   },
   "outputs": [
    {
     "name": "stdout",
     "output_type": "stream",
     "text": [
      "The highest level init for nrutils is located at: /Users/sebastian/projects/phenEOB/env/lib/python2.7/site-packages/nrutils-1.0-py2.7.egg/nrutils/__init__.pyc\n",
      "\n",
      ">> Initiating nrutils ...\n",
      "\n",
      ">> Sub-Packages to be imported:\n",
      "   -> core\n",
      "   -> manipulate\n",
      "   -> tools\n",
      ">> Please note style conventions:                  \n",
      "   * lower case function/method/variable names                  \n",
      "   * no underscore in names unless there are repeated letters, or counfounded syllables                  \n",
      "   * information is implicitely in time domain unless explicitely stated.                  \n",
      "   * frequency domain information will start with \"fd\".\n",
      "\n",
      "nrutils:\n",
      "\n",
      "  .core: \n",
      "      .basics*\n",
      "      .basics\n",
      "      .nrsc\n",
      "  .manipulate: \n",
      "      .bundlers\n",
      "  .tools: \n",
      "    .unit: \n",
      "      .conversion\n",
      "\n"
     ]
    }
   ],
   "source": [
    "from nrutils.core.nrsc import *"
   ]
  },
  {
   "cell_type": "code",
   "execution_count": 2,
   "metadata": {
    "collapsed": false
   },
   "outputs": [
    {
     "name": "stdout",
     "output_type": "stream",
     "text": [
      "[scsearch]>> Found \u001b[4minstitute\u001b[0m (='bam') keyword.\n",
      "[scsearch]>> Found \u001b[4mnonspinning\u001b[0m (=False) keyword.\n",
      "[scsearch]>> Found \u001b[4mq\u001b[0m (=[1, 2]) keyword.\n",
      "[scsearch]>> Found \u001b[4munique\u001b[0m (=True) keyword.\n",
      "[scsearch]>> Found \u001b[4mverbose\u001b[0m (=True) keyword.\n",
      "## Found \u001b[1m29\u001b[0m\u001b[92m unique\u001b[0m simulations:\n",
      "[0001] \u001b[96mq1.2_dc2dcp2\u001b[0m: p-q1.20\n",
      "[0002] \u001b[96mq1.2_dc1dcp2\u001b[0m: p-q1.20\n",
      "[0003] \u001b[96mq1.2_dc2dcp1\u001b[0m: p-q1.20\n",
      "[0004] \u001b[96mq1.2_dcp1dcp2\u001b[0m: p-q1.20\n",
      "[0005] \u001b[96mq1.2_dc2dc2\u001b[0m: p-q1.20\n",
      "[0006] \u001b[96mq1.2_dc1dcp1\u001b[0m: p-q1.20\n",
      "[0007] \u001b[96mq1.2_dc2dphi1\u001b[0m: p-q1.20\n",
      "[0008] \u001b[96mq1.2_dc2dphi2\u001b[0m: p-q1.20\n",
      "[0009] \u001b[96mq1.2_dcp2dcp2\u001b[0m: p-q1.20\n",
      "[0010] \u001b[96mq1.2_base\u001b[0m: p-q1.20\n",
      "[0011] \u001b[96mq1.2_dcp2dphi1\u001b[0m: p-q1.20\n",
      "[0012] \u001b[96mq1.2_dc1dphi1\u001b[0m: p-q1.20\n",
      "[0013] \u001b[96mq1.2_dcp2dphi2\u001b[0m: p-q1.20\n",
      "[0014] \u001b[96mq1.2_dc1dphi2\u001b[0m: p-q1.20\n",
      "[0015] \u001b[96mq1.2_dqdc2\u001b[0m: p-q1.50\n",
      "[0016] \u001b[96mq1.2_dcp1dcp1\u001b[0m: p-q1.20\n",
      "[0017] \u001b[96mq1.2_dcp1dphi2\u001b[0m: p-q1.20\n",
      "[0018] \u001b[96mq1.2_dcp1dphi1\u001b[0m: p-q1.20\n",
      "[0019] \u001b[96mq1.2_dphi1dphi1\u001b[0m: p-q1.20\n",
      "[0020] \u001b[96mq1.2_dphi1dphi2\u001b[0m: p-q1.20\n",
      "[0021] \u001b[96mq1.2_dqdcp2\u001b[0m: p-q1.50\n",
      "[0022] \u001b[96mq1.2_dphi2dphi2\u001b[0m: p-q1.20\n",
      "[0023] \u001b[96mq1.2_dqdc1\u001b[0m: p-q1.50\n",
      "[0024] \u001b[96mq1.2_dqdcp1\u001b[0m: p-q1.50\n",
      "[0025] \u001b[96mq1.2_dqdphi2\u001b[0m: p-q1.50\n",
      "[0026] \u001b[96mq1.2_dqdq\u001b[0m: p-q1.50\n",
      "[0027] \u001b[96mq1.2_dqdphi1\u001b[0m: p-q1.50\n",
      "[0028] \u001b[96mq1.2_dc1dc1\u001b[0m: p-q1.20\n",
      "[0029] \u001b[96mq1.2_dc1dc2\u001b[0m: p-q1.20\n",
      "\n"
     ]
    }
   ],
   "source": [
    "# Search for simulations\n",
    "# A = scsearch(institute='sxs',nonspinning=True,q=[1,10],verbose=True,unique=True)\n",
    "A = scsearch(institute='bam',nonspinning=False,q=[1,2],verbose=True,unique=True)\n",
    "# A = scsearch(precessing=True,q=[1,1.5],verbose=True,unique=True)\n",
    "# A = scsearch(keyword=\"base\",unique=True,verbose=True)\n"
   ]
  },
  {
   "cell_type": "code",
   "execution_count": 3,
   "metadata": {
    "collapsed": false
   },
   "outputs": [
    {
     "name": "stdout",
     "output_type": "stream",
     "text": [
      "(\u001b[96mgwylm\u001b[0m)>> Found \u001b[4mclean\u001b[0m (=False) keyword.\n",
      "(\u001b[96mgwylm\u001b[0m)>> Found \u001b[4mdt\u001b[0m (=0.4) keyword.\n",
      "(\u001b[96mgwylm\u001b[0m)>> Found \u001b[4mlm\u001b[0m (=[2, 2]) keyword.\n",
      "(\u001b[96mgwylm\u001b[0m)>> Found \u001b[4mload\u001b[0m (=True) keyword.\n",
      "(\u001b[96mgwylm\u001b[0m)>> Found \u001b[4mscentry_obj\u001b[0m (=<nrutils.core.nrsc.scentry instance at 0x10fe2f830>) keyword.\n",
      "(\u001b[96mgwylm\u001b[0m)>> Found \u001b[4mverbose\u001b[0m (=True) keyword.\n",
      "(\u001b[96mload\u001b[0m)>> Loading: \u001b[96mpsi3col.r5.l5.l2.m2.gz\u001b[0m\n",
      "(\u001b[96mload\u001b[0m)>> \u001b[93mRe-orienting waveform phase\u001b[0m to be consistent with internal sign convention for Psi4, where sign(dPhi/dt)=1*sign(m). Note that the internal sign convention is defined in ... nrutils/core/__init__.py as \"M_RELATIVE_SIGN_CONVENTION\". This message has appeared becuase the waveform is determioned to obey and sign convention: sign(dPhi/dt)=-1*sign(m).\n",
      "\u001b[93m>> w0 = 0.054044\u001b[0m\n"
     ]
    }
   ],
   "source": [
    "\n",
    "# Convert a single simulation into a waveform object with desired multipoles\n",
    "y = gwylm( scentry_obj = A[0], lm=[2,2], dt=0.4, verbose=True )\n",
    "\n"
   ]
  },
  {
   "cell_type": "code",
   "execution_count": 9,
   "metadata": {
    "collapsed": true
   },
   "outputs": [],
   "source": [
    "tt=A[0]"
   ]
  },
  {
   "cell_type": "code",
   "execution_count": 12,
   "metadata": {
    "collapsed": false
   },
   "outputs": [
    {
     "data": {
      "text/plain": [
       "0.0036249300000000002"
      ]
     },
     "execution_count": 12,
     "metadata": {},
     "output_type": "execute_result"
    }
   ],
   "source": [
    "tt.raw_metadata.eccentricity"
   ]
  },
  {
   "cell_type": "code",
   "execution_count": 7,
   "metadata": {
    "collapsed": false,
    "scrolled": false
   },
   "outputs": [
    {
     "data": {
      "image/png": "[encoded data removed]",
      "text/plain": [
       "<matplotlib.figure.Figure at 0x112b6f710>"
      ]
     },
     "metadata": {},
     "output_type": "display_data"
    },
    {
     "data": {
      "text/plain": [
       "[<matplotlib.axes._subplots.AxesSubplot at 0x10fee7890>,\n",
       " <matplotlib.axes._subplots.AxesSubplot at 0x112d4a850>,\n",
       " <matplotlib.axes._subplots.AxesSubplot at 0x112ce1610>]"
      ]
     },
     "execution_count": 7,
     "metadata": {},
     "output_type": "execute_result"
    }
   ],
   "source": [
    "# # Plot time domain strain\n",
    "# y.plot(kind='strain')\n",
    "\n",
    "# plot time domain psi4\n",
    "y.plot(kind='psi4',show=True, domain='freq')"
   ]
  },
  {
   "cell_type": "code",
   "execution_count": 6,
   "metadata": {
    "collapsed": true
   },
   "outputs": [],
   "source": [
    "%matplotlib inline"
   ]
  },
  {
   "cell_type": "code",
   "execution_count": null,
   "metadata": {
    "collapsed": true
   },
   "outputs": [],
   "source": [
    "y."
   ]
  }
 ],
 "metadata": {
  "kernelspec": {
   "display_name": "Python 2",
   "language": "python",
   "name": "python2"
  },
  "language_info": {
   "codemirror_mode": {
    "name": "ipython",
    "version": 2
   },
   "file_extension": ".py",
   "mimetype": "text/x-python",
   "name": "python",
   "nbconvert_exporter": "python",
   "pygments_lexer": "ipython2",
   "version": "2.7.11"
  },
  "toc": {
   "toc_cell": true,
   "toc_number_sections": true,
   "toc_threshold": 6,
   "toc_window_display": false
  }
 },
 "nbformat": 4,
 "nbformat_minor": 0
}
