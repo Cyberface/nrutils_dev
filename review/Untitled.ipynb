{
 "cells": [
  {
   "cell_type": "code",
   "execution_count": 1,
   "metadata": {
    "collapsed": false
   },
   "outputs": [
    {
     "name": "stdout",
     "output_type": "stream",
     "text": [
      "The highest level init for nrutils is located at: /Users/book/JOKI/Libs/KOALA/nrutils_dev/nrutils/__init__.pyc\n",
      "\n",
      ">> Initiating nrutils ...\n",
      "\n",
      ">> Sub-Packages to be imported:\n",
      "   -> core\n",
      "   -> manipulate\n",
      "   -> tools\n",
      ">> Please note style conventions:                  \n",
      "   * lower case function/method/variable names                  \n",
      "   * no underscore in names unless there are repeated letters, or counfounded syllables                  \n",
      "   * information is implicitely in time domain unless explicitely stated.                  \n",
      "   * frequency domain information will start with \"fd\".\n",
      "\n",
      "nrutils:\n",
      "\n",
      "  .core: \n",
      "      .basics*\n",
      "      .basics\n",
      "      .nrsc\n",
      "  .manipulate: \n",
      "      .bundlers\n",
      "  .tools: \n",
      "    .unit: \n",
      "      .conversion\n",
      "\n"
     ]
    }
   ],
   "source": [
    "import nrutils as nr"
   ]
  },
  {
   "cell_type": "code",
   "execution_count": 3,
   "metadata": {
    "collapsed": false
   },
   "outputs": [
    {
     "name": "stdout",
     "output_type": "stream",
     "text": [
      "[scsearch]>> Found \u001b[4mkeyword\u001b[0m (='base_96') keyword.\n",
      "[scsearch]>> Found \u001b[4mverbose\u001b[0m (=True) keyword.\n",
      "## Found \u001b[1m1\u001b[0m\u001b[95m possibly degenerate\u001b[0m simulations:\n",
      "[0001] \u001b[96mq1.2_base_96\u001b[0m: p-q1.20\n",
      "\n"
     ]
    }
   ],
   "source": [
    "A = nr.scsearch(keyword='base_96',verbose=True)[0]"
   ]
  },
  {
   "cell_type": "code",
   "execution_count": null,
   "metadata": {
    "collapsed": true
   },
   "outputs": [],
   "source": [
    "A."
   ]
  }
 ],
 "metadata": {
  "kernelspec": {
   "display_name": "Python 2",
   "language": "python",
   "name": "python2"
  },
  "language_info": {
   "codemirror_mode": {
    "name": "ipython",
    "version": 2
   },
   "file_extension": ".py",
   "mimetype": "text/x-python",
   "name": "python",
   "nbconvert_exporter": "python",
   "pygments_lexer": "ipython2",
   "version": "2.7.10"
  }
 },
 "nbformat": 4,
 "nbformat_minor": 0
}
