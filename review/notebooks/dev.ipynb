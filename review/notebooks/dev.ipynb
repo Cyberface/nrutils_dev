{
 "cells": [
  {
   "cell_type": "markdown",
   "metadata": {},
   "source": [
    "# (dev) This is a notebook for General Development Iterations"
   ]
  },
  {
   "cell_type": "markdown",
   "metadata": {},
   "source": [
    "### Wishlist\n",
    "* Command line interface to setup nrutils\n",
    "* Allow for user to input location of config files to scbuild\n",
    "* Rotation of multipoles with Wigner D-matrix: \n",
    "    ```python \n",
    "    gwylm = gwylm.rotate( t, alpha, beta, gamma )\n",
    "    ```\n",
    "* Recompose function\n",
    "    ```python\n",
    "    gwf = gwylm.recompose(theta,phi)\n",
    "    ```"
   ]
  },
  {
   "cell_type": "markdown",
   "metadata": {},
   "source": [
    "### Import useful things"
   ]
  },
  {
   "cell_type": "code",
   "execution_count": 10,
   "metadata": {
    "collapsed": false
   },
   "outputs": [
    {
     "name": "stdout",
     "output_type": "stream",
     "text": [
      "The autoreload extension is already loaded. To reload it, use:\n",
      "  %reload_ext autoreload\n",
      "Using matplotlib backend: TkAgg\n"
     ]
    }
   ],
   "source": [
    "# Setup enviroment to autoreload packages\n",
    "%load_ext autoreload\n",
    "%autoreload 2\n",
    "%matplotlib auto\n",
    "\n",
    "from matplotlib.pyplot import figure,plot,xlabel,ylabel,gca,show,close,axvline,xlim,ylim,savefig,legend,title\n",
    "\n",
    "# Import select nrutils packages\n",
    "from nrutils import scbuild,red,cyan,yellow,green,scsearch,gwylm,rgb"
   ]
  },
  {
   "cell_type": "markdown",
   "metadata": {},
   "source": [
    "### Try to build a catalog with the defulat configuration files (those defined in the user's paths.ini)"
   ]
  },
  {
   "cell_type": "code",
   "execution_count": null,
   "metadata": {
    "collapsed": false,
    "scrolled": true
   },
   "outputs": [],
   "source": [
    "# Do this with scbuild\n",
    "# scbuild(keyword='hogshead')"
   ]
  },
  {
   "cell_type": "code",
   "execution_count": 2,
   "metadata": {
    "collapsed": false,
    "scrolled": false
   },
   "outputs": [
    {
     "name": "stdout",
     "output_type": "stream",
     "text": [
      "[scsearch]>> Found \u001b[4mkeyword\u001b[0m (='sxs') keyword.\n",
      "[scsearch]>> Found \u001b[4mspinaligned\u001b[0m (=True) keyword.\n",
      "[scsearch]>> Found \u001b[4munique\u001b[0m (=True) keyword.\n",
      "[scsearch]>> Found \u001b[4mverbose\u001b[0m (=True) keyword.\n",
      "(\u001b[0;36mscsearch\u001b[0m)>> List of keywords or string keyword found: \u001b[0;36mALL scentry objects matching will be passed.\u001b[0m To pass ANY entries matching the keywords, input the keywords using an iterable of not of type list.\n",
      "## Found \u001b[1m20\u001b[0m\u001b[92m unique\u001b[0m simulations:\n",
      "[0001][\u001b[92msxs\u001b[0m] \u001b[0;36mSXS0178\u001b[0m: qc-1chi0.99-2chi0.99-sa-q1.00\t(\u001b[0;36mSXS0178\u001b[0m)\n",
      "[0002][\u001b[92msxs\u001b[0m] \u001b[0;36mSXS0177\u001b[0m: qc-1chi0.99-2chi0.99-sa-q1.00\t(\u001b[0;36mSXS0177\u001b[0m)\n",
      "[0003][\u001b[92msxs\u001b[0m] \u001b[0;36mSXS0176\u001b[0m: qc-1chi0.96-2chi0.96-sa-q1.00\t(\u001b[0;36mSXS0176\u001b[0m)\n",
      "[0004][\u001b[92msxs\u001b[0m] \u001b[0;36mSXS0175\u001b[0m: qc-1chi0.75-2chi0.75-sa-q1.00\t(\u001b[0;36mSXS0175\u001b[0m)\n",
      "[0005][\u001b[92msxs\u001b[0m] \u001b[0;36mSXS0174\u001b[0m: qc-1chi0.50-sa-q3.00\t(\u001b[0;36mSXS0174\u001b[0m)\n",
      "[0006][\u001b[92msxs\u001b[0m] \u001b[0;36mSXS0172\u001b[0m: qc-1chi0.98-2chi0.98-sa-q1.00\t(\u001b[0;36mSXS0172\u001b[0m)\n",
      "[0007][\u001b[92msxs\u001b[0m] \u001b[0;36mSXS0170\u001b[0m: qc-1chi0.44-2chi0.44-sa-q1.00\t(\u001b[0;36mSXS0170\u001b[0m)\n",
      "[0008][\u001b[92msxs\u001b[0m] \u001b[0;36mSXS0162\u001b[0m: qc-1chi0.60-sa-q2.00\t(\u001b[0;36mSXS0162\u001b[0m)\n",
      "[0009][\u001b[92msxs\u001b[0m] \u001b[0;36mSXS0160\u001b[0m: qc-1chi0.90-2chi0.90-sa-q1.00\t(\u001b[0;36mSXS0160\u001b[0m)\n",
      "[0010][\u001b[92msxs\u001b[0m] \u001b[0;36mSXS0158\u001b[0m: qc-1chi0.97-2chi0.97-sa-q1.00\t(\u001b[0;36mSXS0158\u001b[0m)\n",
      "[0011][\u001b[92msxs\u001b[0m] \u001b[0;36mSXS0157\u001b[0m: qc-1chi0.95-2chi0.95-sa-q1.00\t(\u001b[0;36mSXS0157\u001b[0m)\n",
      "[0012][\u001b[92msxs\u001b[0m] \u001b[0;36mSXS0155\u001b[0m: qc-1chi0.80-2chi0.80-sa-q1.00\t(\u001b[0;36mSXS0155\u001b[0m)\n",
      "[0013][\u001b[92msxs\u001b[0m] \u001b[0;36mSXS0153\u001b[0m: qc-1chi0.85-2chi0.85-sa-q1.00\t(\u001b[0;36mSXS0153\u001b[0m)\n",
      "[0014][\u001b[92msxs\u001b[0m] \u001b[0;36mSXS0152\u001b[0m: qc-1chi0.60-2chi0.60-sa-q1.00\t(\u001b[0;36mSXS0152\u001b[0m)\n",
      "[0015][\u001b[92msxs\u001b[0m] \u001b[0;36mSXS0150\u001b[0m: qc-1chi0.20-2chi0.20-sa-q1.00\t(\u001b[0;36mSXS0150\u001b[0m)\n",
      "[0016][\u001b[92msxs\u001b[0m] \u001b[0;36mSXS0065\u001b[0m: qc-1chi0.50-sa-q8.00\t(\u001b[0;36mSXS0065\u001b[0m)\n",
      "[0017][\u001b[92msxs\u001b[0m] \u001b[0;36mSXS0061\u001b[0m: qc-1chi0.50-sa-q5.00\t(\u001b[0;36mSXS0061\u001b[0m)\n",
      "[0018][\u001b[92msxs\u001b[0m] \u001b[0;36mSXS0047\u001b[0m: qc-1chi0.50-2chi0.50-sa-q3.00\t(\u001b[0;36mSXS0047\u001b[0m)\n",
      "[0019][\u001b[92msxs\u001b[0m] \u001b[0;36mSXS0013\u001b[0m: qc-1chi0.50-sa-q1.50\t(\u001b[0;36mSXS0013\u001b[0m)\n",
      "[0020][\u001b[92msxs\u001b[0m] \u001b[0;36mSXS0005\u001b[0m: qc-1chi0.50-sa-q1.00\t(\u001b[0;36mSXS0005\u001b[0m)\n",
      "\n"
     ]
    }
   ],
   "source": [
    "# Look for simulations\n",
    "A = scsearch(keyword='sxs',spinaligned=True,verbose=True,unique=True)"
   ]
  },
  {
   "cell_type": "code",
   "execution_count": null,
   "metadata": {
    "collapsed": false,
    "scrolled": true
   },
   "outputs": [],
   "source": [
    "A[0].config.show()"
   ]
  },
  {
   "cell_type": "code",
   "execution_count": 3,
   "metadata": {
    "collapsed": false
   },
   "outputs": [
    {
     "name": "stdout",
     "output_type": "stream",
     "text": [
      "(\u001b[0;36mgwylm\u001b[0m)>> Found \u001b[4mclean\u001b[0m (=False) keyword.\n",
      "(\u001b[0;36mgwylm\u001b[0m)>> Found \u001b[4mlm\u001b[0m (=([2, 2], [3, 2], [3, 3], [4, 4], [4, 3])) keyword.\n",
      "(\u001b[0;36mgwylm\u001b[0m)>> Found \u001b[4mload\u001b[0m (=True) keyword.\n",
      "(\u001b[0;36mgwylm\u001b[0m)>> Found \u001b[4mlowpass\u001b[0m (=False) keyword.\n",
      "(\u001b[0;36mgwylm\u001b[0m)>> Found \u001b[4mscentry_obj\u001b[0m (=<nrutils.core.nrsc.scentry instance at 0x10f79e170>) keyword.\n",
      "(\u001b[0;36mgwylm\u001b[0m)>> Found \u001b[4mverbose\u001b[0m (=True) keyword.\n",
      "(\u001b[0;36mload\u001b[0m)>> Loading: \u001b[0;36mrMPsi4_Y_l2_m2.asc\u001b[0m\n",
      "\u001b[1;35m(**) Warning: No dt given to gwf(). We will assume that the input waveform array is in geometric units, and that dt = 0.345225 will more than suffice.\u001b[0m\n",
      "\u001b[1;35m(**) Warning: No dt given to gwf(). We will assume that the input waveform array is in geometric units, and that dt = 0.345225 will more than suffice.\u001b[0m\n",
      "(\u001b[0;36mload\u001b[0m)>> \u001b[0;33mRe-orienting waveform phase\u001b[0m to be consistent with internal sign convention for Psi4, where sign(dPhi/dt)=1*sign(m). Note that the internal sign convention is defined in ... nrutils/core/__init__.py as \"M_RELATIVE_SIGN_CONVENTION\". This message has appeared becuase the waveform is determioned to obey and sign convention: sign(dPhi/dt)=-1*sign(m).\n",
      "(\u001b[0;36mload\u001b[0m)>> Loading: \u001b[0;36mrMPsi4_Y_l3_m2.asc\u001b[0m\n",
      "\u001b[1;35m(**) Warning: No dt given to gwf(). We will assume that the input waveform array is in geometric units, and that dt = 0.345225 will more than suffice.\u001b[0m\n",
      "\u001b[1;35m(**) Warning: No dt given to gwf(). We will assume that the input waveform array is in geometric units, and that dt = 0.345225 will more than suffice.\u001b[0m\n",
      "(\u001b[0;36mload\u001b[0m)>> \u001b[0;33mRe-orienting waveform phase\u001b[0m to be consistent with internal sign convention for Psi4, where sign(dPhi/dt)=1*sign(m). Note that the internal sign convention is defined in ... nrutils/core/__init__.py as \"M_RELATIVE_SIGN_CONVENTION\". This message has appeared becuase the waveform is determioned to obey and sign convention: sign(dPhi/dt)=-1*sign(m).\n",
      "(\u001b[0;36mload\u001b[0m)>> Loading: \u001b[0;36mrMPsi4_Y_l3_m3.asc\u001b[0m\n",
      "\u001b[1;35m(**) Warning: No dt given to gwf(). We will assume that the input waveform array is in geometric units, and that dt = 0.345225 will more than suffice.\u001b[0m\n",
      "\u001b[1;35m(**) Warning: No dt given to gwf(). We will assume that the input waveform array is in geometric units, and that dt = 0.345225 will more than suffice.\u001b[0m\n",
      "(\u001b[0;36mload\u001b[0m)>> \u001b[0;33mRe-orienting waveform phase\u001b[0m to be consistent with internal sign convention for Psi4, where sign(dPhi/dt)=1*sign(m). Note that the internal sign convention is defined in ... nrutils/core/__init__.py as \"M_RELATIVE_SIGN_CONVENTION\". This message has appeared becuase the waveform is determioned to obey and sign convention: sign(dPhi/dt)=-1*sign(m).\n",
      "(\u001b[0;36mload\u001b[0m)>> Loading: \u001b[0;36mrMPsi4_Y_l4_m4.asc\u001b[0m\n",
      "\u001b[1;35m(**) Warning: No dt given to gwf(). We will assume that the input waveform array is in geometric units, and that dt = 0.345225 will more than suffice.\u001b[0m\n",
      "\u001b[1;35m(**) Warning: No dt given to gwf(). We will assume that the input waveform array is in geometric units, and that dt = 0.345225 will more than suffice.\u001b[0m\n",
      "(\u001b[0;36mload\u001b[0m)>> \u001b[0;33mRe-orienting waveform phase\u001b[0m to be consistent with internal sign convention for Psi4, where sign(dPhi/dt)=1*sign(m). Note that the internal sign convention is defined in ... nrutils/core/__init__.py as \"M_RELATIVE_SIGN_CONVENTION\". This message has appeared becuase the waveform is determioned to obey and sign convention: sign(dPhi/dt)=-1*sign(m).\n",
      "(\u001b[0;36mload\u001b[0m)>> Loading: \u001b[0;36mrMPsi4_Y_l4_m3.asc\u001b[0m\n",
      "\u001b[1;35m(**) Warning: No dt given to gwf(). We will assume that the input waveform array is in geometric units, and that dt = 0.345225 will more than suffice.\u001b[0m\n",
      "\u001b[1;35m(**) Warning: No dt given to gwf(). We will assume that the input waveform array is in geometric units, and that dt = 0.345225 will more than suffice.\u001b[0m\n",
      "(\u001b[0;36mload\u001b[0m)>> \u001b[0;33mRe-orienting waveform phase\u001b[0m to be consistent with internal sign convention for Psi4, where sign(dPhi/dt)=1*sign(m). Note that the internal sign convention is defined in ... nrutils/core/__init__.py as \"M_RELATIVE_SIGN_CONVENTION\". This message has appeared becuase the waveform is determioned to obey and sign convention: sign(dPhi/dt)=-1*sign(m).\n",
      "(\u001b[0;36mgwylm\u001b[0m)>> Using w22 from a \u001b[1m\u001b[1;35mPN estimate\u001b[0m\u001b[0m to calculate strain multipoles [see pnw0 in basics.py, and/or arxiv:1310.1528v4].\n",
      "\u001b[1;35m* w0(w22) = 0.027536\u001b[0m\u001b[0;33m (this is the lower frequency used for FFI method [arxiv:1006.1632v3])\u001b[0m\n",
      "(\u001b[0;36mgwylm.calchlm\u001b[0m)>> \u001b[0;33mThe user should note that there is no minus sign used in front of the double time integral for strain (i.e. Eq 4 of arxiv:1006.1632). This differs from Eq 3.4 of arxiv:0707.4654v3. The net effect is a rotation of the overall polarization of pi degrees. The user should also note that there is no minus sign applied to h_cross meaning that the user must be mindful to write h_pluss-1j*h_cross when appropriate.\u001b[0m\n",
      "\u001b[1;35m* w0(w22) = 0.027536\u001b[0m\u001b[0;33m (this is the lower frequency used for FFI method [arxiv:1006.1632v3])\u001b[0m\n",
      "(\u001b[0;36mgwylm.calchlm\u001b[0m)>> \u001b[0;33mThe user should note that there is no minus sign used in front of the double time integral for strain (i.e. Eq 4 of arxiv:1006.1632). This differs from Eq 3.4 of arxiv:0707.4654v3. The net effect is a rotation of the overall polarization of pi degrees. The user should also note that there is no minus sign applied to h_cross meaning that the user must be mindful to write h_pluss-1j*h_cross when appropriate.\u001b[0m\n",
      "\u001b[1;35m* w0(w22) = 0.041304\u001b[0m\u001b[0;33m (this is the lower frequency used for FFI method [arxiv:1006.1632v3])\u001b[0m\n",
      "(\u001b[0;36mgwylm.calchlm\u001b[0m)>> \u001b[0;33mThe user should note that there is no minus sign used in front of the double time integral for strain (i.e. Eq 4 of arxiv:1006.1632). This differs from Eq 3.4 of arxiv:0707.4654v3. The net effect is a rotation of the overall polarization of pi degrees. The user should also note that there is no minus sign applied to h_cross meaning that the user must be mindful to write h_pluss-1j*h_cross when appropriate.\u001b[0m\n",
      "\u001b[1;35m* w0(w22) = 0.055072\u001b[0m\u001b[0;33m (this is the lower frequency used for FFI method [arxiv:1006.1632v3])\u001b[0m\n",
      "(\u001b[0;36mgwylm.calchlm\u001b[0m)>> \u001b[0;33mThe user should note that there is no minus sign used in front of the double time integral for strain (i.e. Eq 4 of arxiv:1006.1632). This differs from Eq 3.4 of arxiv:0707.4654v3. The net effect is a rotation of the overall polarization of pi degrees. The user should also note that there is no minus sign applied to h_cross meaning that the user must be mindful to write h_pluss-1j*h_cross when appropriate.\u001b[0m\n",
      "\u001b[1;35m* w0(w22) = 0.041304\u001b[0m\u001b[0;33m (this is the lower frequency used for FFI method [arxiv:1006.1632v3])\u001b[0m\n",
      "(\u001b[0;36mgwylm.calchlm\u001b[0m)>> \u001b[0;33mThe user should note that there is no minus sign used in front of the double time integral for strain (i.e. Eq 4 of arxiv:1006.1632). This differs from Eq 3.4 of arxiv:0707.4654v3. The net effect is a rotation of the overall polarization of pi degrees. The user should also note that there is no minus sign applied to h_cross meaning that the user must be mindful to write h_pluss-1j*h_cross when appropriate.\u001b[0m\n"
     ]
    }
   ],
   "source": [
    "y = gwylm( A[0], lm=([2,2],[3,2],[3,3],[4,4],[4,3]), verbose=True )"
   ]
  },
  {
   "cell_type": "code",
   "execution_count": 11,
   "metadata": {
    "collapsed": false
   },
   "outputs": [],
   "source": [
    "fig = figure()\n",
    "clr = rgb( len(y.hlm) )\n",
    "for k,h in enumerate(y.hlm):\n",
    "    plot( h.f, h.fd_amp, color=clr[k] )\n",
    "gca().set_xscale(\"log\", nonposx='clip')\n",
    "gca().set_yscale(\"log\", nonposy='clip')\n",
    "show()"
   ]
  },
  {
   "cell_type": "code",
   "execution_count": 6,
   "metadata": {
    "collapsed": false,
    "scrolled": true
   },
   "outputs": [],
   "source": [
    "close('all')"
   ]
  },
  {
   "cell_type": "code",
   "execution_count": null,
   "metadata": {
    "collapsed": false
   },
   "outputs": [],
   "source": [
    "print getattr(y,'note')"
   ]
  },
  {
   "cell_type": "code",
   "execution_count": null,
   "metadata": {
    "collapsed": false,
    "scrolled": true
   },
   "outputs": [],
   "source": [
    "A = scsearch(nonspinning=True,verbose=True,unique=True,keyword='sxs')"
   ]
  },
  {
   "cell_type": "code",
   "execution_count": null,
   "metadata": {
    "collapsed": false
   },
   "outputs": [],
   "source": [
    "y = gwylm(A[0],lm=[2,2],verbose=True)"
   ]
  },
  {
   "cell_type": "code",
   "execution_count": 8,
   "metadata": {
    "collapsed": false
   },
   "outputs": [],
   "source": [
    "\n",
    "h22 = y.lm[2,2]['strain']"
   ]
  },
  {
   "cell_type": "code",
   "execution_count": 51,
   "metadata": {
    "collapsed": false
   },
   "outputs": [],
   "source": [
    "close('all')\n",
    "figure()\n",
    "from kerr import leaver,rgb\n",
    "from numpy.linalg import norm\n",
    "from numpy import pi\n",
    "\n",
    "clr = rgb(3)\n",
    "for k,h in enumerate(y.hlm):\n",
    "    mask = h.f<h.m*0.118/2\n",
    "    plot( h.f[mask], h.fd_dphi[mask], alpha=0.6, color=clr[k], label='(%i,%i)'%(h.l,h.m) )\n",
    "    plot( h.m*h22.f[h22.f<0.118]/2, h22.fd_dphi[h22.f<0.118], '--k', label='(2,2)->(%i,%i)'%(h.l,h.m) )\n",
    "    cw = leaver( norm(h.xf), h.l, h.m, 0, Mf=h.mf )[0]\n",
    "    axvline( cw.real/(2*pi), color=clr[k] )\n",
    "gca().set_xscale(\"log\", nonposy='clip')\n",
    "xlim([0.016,0.22])\n",
    "ylim([1783,2853])\n",
    "xlabel('$f~(1/M)$')\n",
    "ylabel('$d\\phi/df$')\n",
    "legend()\n",
    "title(y.label)\n",
    "\n",
    "savefig('/Users/book/Desktop/fd_dphi_comparison_%s.pdf'%y.label)\n"
   ]
  },
  {
   "cell_type": "code",
   "execution_count": 35,
   "metadata": {
    "collapsed": false
   },
   "outputs": [
    {
     "name": "stdout",
     "output_type": "stream",
     "text": [
      "[ -1.22215271e-09   3.00107260e-09   6.56477666e-01]\n"
     ]
    }
   ],
   "source": [
    "print h.xf"
   ]
  },
  {
   "cell_type": "code",
   "execution_count": null,
   "metadata": {
    "collapsed": true
   },
   "outputs": [],
   "source": []
  }
 ],
 "metadata": {
  "kernelspec": {
   "display_name": "Python [Root]",
   "language": "python",
   "name": "Python [Root]"
  },
  "language_info": {
   "codemirror_mode": {
    "name": "ipython",
    "version": 2
   },
   "file_extension": ".py",
   "mimetype": "text/x-python",
   "name": "python",
   "nbconvert_exporter": "python",
   "pygments_lexer": "ipython2",
   "version": "2.7.12"
  }
 },
 "nbformat": 4,
 "nbformat_minor": 0
}
