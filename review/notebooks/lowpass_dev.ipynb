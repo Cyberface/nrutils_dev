{
 "cells": [
  {
   "cell_type": "code",
   "execution_count": 66,
   "metadata": {
    "collapsed": false
   },
   "outputs": [
    {
     "name": "stdout",
     "output_type": "stream",
     "text": [
      "The autoreload extension is already loaded. To reload it, use:\n",
      "  %reload_ext autoreload\n"
     ]
    }
   ],
   "source": [
    "# Setup enviroment to autoreload packages\n",
    "%load_ext autoreload\n",
    "%autoreload 2\n",
    "%matplotlib inline\n",
    "# Use a linear interpolator, and a reverse greedy process\n",
    "from matplotlib.pyplot import *\n",
    "#\n",
    "from nrutils import scsearch,gwylm"
   ]
  },
  {
   "cell_type": "code",
   "execution_count": 67,
   "metadata": {
    "collapsed": false
   },
   "outputs": [
    {
     "name": "stdout",
     "output_type": "stream",
     "text": [
      "[scsearch]>> Found \u001b[4mkeyword\u001b[0m (='athena') keyword.\n",
      "[scsearch]>> Found \u001b[4mnonspinning\u001b[0m (=True) keyword.\n",
      "[scsearch]>> Found \u001b[4mq\u001b[0m (=2) keyword.\n",
      "[scsearch]>> Found \u001b[4munique\u001b[0m (=True) keyword.\n",
      "[scsearch]>> Found \u001b[4mverbose\u001b[0m (=True) keyword.\n",
      "(\u001b[0;36mscsearch\u001b[0m)>> List of keywords or string keyword found: \u001b[0;36mALL scentry objects matching will be passed.\u001b[0m To pass ANY entries matching the keywords, input the keywords using an iterable of not of type list.\n",
      "## Found \u001b[1m1\u001b[0m\u001b[92m unique\u001b[0m simulations:\n",
      "[0001][\u001b[92mathena\u001b[0m] \u001b[0;36mHR-series\u001b[0m: ns-q2.00\n",
      "\n",
      "(\u001b[0;36mgwylm\u001b[0m)>> Found \u001b[4mclean\u001b[0m (=False) keyword.\n",
      "(\u001b[0;36mgwylm\u001b[0m)>> Found \u001b[4mdt\u001b[0m (=0.5) keyword.\n",
      "(\u001b[0;36mgwylm\u001b[0m)>> Found \u001b[4mlm\u001b[0m (=[2, 2]) keyword.\n",
      "(\u001b[0;36mgwylm\u001b[0m)>> Found \u001b[4mload\u001b[0m (=True) keyword.\n",
      "(\u001b[0;36mgwylm\u001b[0m)>> Found \u001b[4mlowpass\u001b[0m (=True) keyword.\n",
      "(\u001b[0;36mgwylm\u001b[0m)>> Found \u001b[4mscentry_obj\u001b[0m (=<nrutils.core.nrsc.scentry instance at 0x12fe7c128>) keyword.\n",
      "(\u001b[0;36mgwylm\u001b[0m)>> Found \u001b[4mverbose\u001b[0m (=True) keyword.\n",
      "(\u001b[0;36mload\u001b[0m)>> Loading: \u001b[0;36mYlm_WEYLSCAL4::Psi4r_l2_m2_r75.00.asc\u001b[0m\n",
      "(\u001b[0;36mgwylm.setfields\u001b[0m)>> Interpolating data to \u001b[0;36mdt=0.500000\u001b[0m\n",
      "(\u001b[0;36mgwylm.setfields\u001b[0m)>> Interpolating data to \u001b[0;36mdt=0.500000\u001b[0m\n",
      "(\u001b[0;36mload\u001b[0m)>> \u001b[0;33mRe-orienting waveform phase\u001b[0m to be consistent with internal sign convention for Psi4, where sign(dPhi/dt)=1*sign(m). Note that the internal sign convention is defined in ... nrutils/core/__init__.py as \"M_RELATIVE_SIGN_CONVENTION\". This message has appeared becuase the waveform is determioned to obey and sign convention: sign(dPhi/dt)=-1*sign(m).\n",
      "(\u001b[0;36mgwylm\u001b[0m)>> Using w22 from a \u001b[1m\u001b[1;35mPN estimate\u001b[0m\u001b[0m to calculate strain multipoles [see pnw0 in basics.py, and/or arxiv:1310.1528v4].\n"
     ]
    },
    {
     "ename": "ValueError",
     "evalue": "(\u001b[31mlowpass!!\u001b[0m)>> Howdy, partner! This function is experimental and should NOT be used.",
     "output_type": "error",
     "traceback": [
      "\u001b[0;31m---------------------------------------------------------------------------\u001b[0m",
      "\u001b[0;31mValueError\u001b[0m                                Traceback (most recent call last)",
      "\u001b[0;32m<ipython-input-67-ad5c72149cef>\u001b[0m in \u001b[0;36m<module>\u001b[0;34m()\u001b[0m\n\u001b[1;32m      1\u001b[0m \u001b[0mA\u001b[0m \u001b[0;34m=\u001b[0m \u001b[0mscsearch\u001b[0m\u001b[0;34m(\u001b[0m\u001b[0mkeyword\u001b[0m\u001b[0;34m=\u001b[0m\u001b[0;34m'athena'\u001b[0m\u001b[0;34m,\u001b[0m\u001b[0mnonspinning\u001b[0m\u001b[0;34m=\u001b[0m\u001b[0mTrue\u001b[0m\u001b[0;34m,\u001b[0m\u001b[0mq\u001b[0m\u001b[0;34m=\u001b[0m\u001b[0;36m2\u001b[0m\u001b[0;34m,\u001b[0m\u001b[0munique\u001b[0m\u001b[0;34m=\u001b[0m\u001b[0mTrue\u001b[0m\u001b[0;34m,\u001b[0m\u001b[0mverbose\u001b[0m\u001b[0;34m=\u001b[0m\u001b[0mTrue\u001b[0m\u001b[0;34m)\u001b[0m\u001b[0;34m\u001b[0m\u001b[0m\n\u001b[0;32m----> 2\u001b[0;31m \u001b[0my\u001b[0m \u001b[0;34m=\u001b[0m \u001b[0mgwylm\u001b[0m\u001b[0;34m(\u001b[0m \u001b[0mA\u001b[0m\u001b[0;34m[\u001b[0m\u001b[0;36m0\u001b[0m\u001b[0;34m]\u001b[0m\u001b[0;34m,\u001b[0m \u001b[0mlm\u001b[0m \u001b[0;34m=\u001b[0m \u001b[0;34m[\u001b[0m\u001b[0;36m2\u001b[0m\u001b[0;34m,\u001b[0m\u001b[0;36m2\u001b[0m\u001b[0;34m]\u001b[0m\u001b[0;34m,\u001b[0m \u001b[0mverbose\u001b[0m\u001b[0;34m=\u001b[0m\u001b[0mTrue\u001b[0m\u001b[0;34m,\u001b[0m \u001b[0mdt\u001b[0m \u001b[0;34m=\u001b[0m \u001b[0;36m0.5\u001b[0m\u001b[0;34m,\u001b[0m \u001b[0mlowpass\u001b[0m\u001b[0;34m=\u001b[0m\u001b[0mTrue\u001b[0m \u001b[0;34m)\u001b[0m\u001b[0;34m\u001b[0m\u001b[0m\n\u001b[0m",
      "\u001b[0;32m/Users/book/JOKI/Libs/KOALA/nrutils_dev/nrutils/core/nrsc.pyc\u001b[0m in \u001b[0;36m__init__\u001b[0;34m(this, scentry_obj, lm, lmax, dt, load, clean, extraction_parameter, level, w22, lowpass, verbose)\u001b[0m\n\u001b[1;32m   1570\u001b[0m         \u001b[0mthis\u001b[0m\u001b[0;34m.\u001b[0m\u001b[0m__lowpassfiltered__\u001b[0m \u001b[0;34m=\u001b[0m \u001b[0mFalse\u001b[0m\u001b[0;34m\u001b[0m\u001b[0m\n\u001b[1;32m   1571\u001b[0m         \u001b[0;32mif\u001b[0m \u001b[0mlowpass\u001b[0m\u001b[0;34m:\u001b[0m\u001b[0;34m\u001b[0m\u001b[0m\n\u001b[0;32m-> 1572\u001b[0;31m             \u001b[0mthis\u001b[0m\u001b[0;34m.\u001b[0m\u001b[0mlowpass\u001b[0m\u001b[0;34m(\u001b[0m\u001b[0;34m)\u001b[0m\u001b[0;34m\u001b[0m\u001b[0m\n\u001b[0m\u001b[1;32m   1573\u001b[0m \u001b[0;34m\u001b[0m\u001b[0m\n\u001b[1;32m   1574\u001b[0m         \u001b[0;31m# Calculate strain\u001b[0m\u001b[0;34m\u001b[0m\u001b[0;34m\u001b[0m\u001b[0m\n",
      "\u001b[0;32m/Users/book/JOKI/Libs/KOALA/nrutils_dev/nrutils/core/nrsc.pyc\u001b[0m in \u001b[0;36mlowpass\u001b[0;34m(this)\u001b[0m\n\u001b[1;32m   2208\u001b[0m         \u001b[0;31m#\u001b[0m\u001b[0;34m\u001b[0m\u001b[0;34m\u001b[0m\u001b[0m\n\u001b[1;32m   2209\u001b[0m         \u001b[0mmsg\u001b[0m \u001b[0;34m=\u001b[0m \u001b[0;34m'Howdy, partner! This function is experimental and should NOT be used.'\u001b[0m\u001b[0;34m\u001b[0m\u001b[0m\n\u001b[0;32m-> 2210\u001b[0;31m         \u001b[0merror\u001b[0m\u001b[0;34m(\u001b[0m\u001b[0mmsg\u001b[0m\u001b[0;34m,\u001b[0m\u001b[0;34m'lowpass'\u001b[0m\u001b[0;34m)\u001b[0m\u001b[0;34m\u001b[0m\u001b[0m\n\u001b[0m\u001b[1;32m   2211\u001b[0m \u001b[0;34m\u001b[0m\u001b[0m\n\u001b[1;32m   2212\u001b[0m         \u001b[0;31m#\u001b[0m\u001b[0;34m\u001b[0m\u001b[0;34m\u001b[0m\u001b[0m\n",
      "\u001b[0;32m/Users/book/JOKI/Libs/KOALA/nrutils_dev/nrutils/core/basics.py\u001b[0m in \u001b[0;36merror\u001b[0;34m(msg, fname)\u001b[0m\n\u001b[1;32m    911\u001b[0m         \u001b[0mfname\u001b[0m \u001b[0;34m=\u001b[0m \u001b[0;34m'error'\u001b[0m\u001b[0;34m\u001b[0m\u001b[0m\n\u001b[1;32m    912\u001b[0m \u001b[0;34m\u001b[0m\u001b[0m\n\u001b[0;32m--> 913\u001b[0;31m     \u001b[0;32mraise\u001b[0m \u001b[0mValueError\u001b[0m\u001b[0;34m(\u001b[0m \u001b[0;34m'('\u001b[0m\u001b[0;34m+\u001b[0m\u001b[0mred\u001b[0m\u001b[0;34m(\u001b[0m\u001b[0mfname\u001b[0m\u001b[0;34m+\u001b[0m\u001b[0;34m'!!'\u001b[0m\u001b[0;34m)\u001b[0m\u001b[0;34m+\u001b[0m\u001b[0;34m')>> '\u001b[0m\u001b[0;34m+\u001b[0m\u001b[0mmsg\u001b[0m \u001b[0;34m)\u001b[0m\u001b[0;34m\u001b[0m\u001b[0m\n\u001b[0m\u001b[1;32m    914\u001b[0m \u001b[0;34m\u001b[0m\u001b[0m\n\u001b[1;32m    915\u001b[0m \u001b[0;34m\u001b[0m\u001b[0m\n",
      "\u001b[0;31mValueError\u001b[0m: (\u001b[31mlowpass!!\u001b[0m)>> Howdy, partner! This function is experimental and should NOT be used."
     ]
    }
   ],
   "source": [
    "A = scsearch(keyword='athena',nonspinning=True,q=2,unique=True,verbose=True)\n",
    "y = gwylm( A[0], lm = [2,2], verbose=True, dt = 0.5, lowpass=True )"
   ]
  },
  {
   "cell_type": "code",
   "execution_count": 65,
   "metadata": {
    "collapsed": false
   },
   "outputs": [
    {
     "data": {
      "text/plain": [
       "([<matplotlib.axes._subplots.AxesSubplot at 0x125535f90>,\n",
       "  <matplotlib.axes._subplots.AxesSubplot at 0x140bad090>,\n",
       "  <matplotlib.axes._subplots.AxesSubplot at 0x1350c7c10>],\n",
       " <matplotlib.figure.Figure at 0x142110510>)"
      ]
     },
     "execution_count": 65,
     "metadata": {},
     "output_type": "execute_result"
    }
   ],
   "source": [
    "y.hlm[0].plot(show=True,domain='freq')"
   ]
  },
  {
   "cell_type": "code",
   "execution_count": null,
   "metadata": {
    "collapsed": true
   },
   "outputs": [],
   "source": []
  }
 ],
 "metadata": {
  "kernelspec": {
   "display_name": "Python [Root]",
   "language": "python",
   "name": "Python [Root]"
  },
  "language_info": {
   "codemirror_mode": {
    "name": "ipython",
    "version": 2
   },
   "file_extension": ".py",
   "mimetype": "text/x-python",
   "name": "python",
   "nbconvert_exporter": "python",
   "pygments_lexer": "ipython2",
   "version": "2.7.12"
  }
 },
 "nbformat": 4,
 "nbformat_minor": 0
}
