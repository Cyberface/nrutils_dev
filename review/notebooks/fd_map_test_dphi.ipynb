{
 "cells": [
  {
   "cell_type": "markdown",
   "metadata": {},
   "source": [
    "# (dev) Test basic FD Mapping for phase derivative"
   ]
  },
  {
   "cell_type": "markdown",
   "metadata": {},
   "source": [
    "### Import useful things"
   ]
  },
  {
   "cell_type": "code",
   "execution_count": 14,
   "metadata": {
    "collapsed": false
   },
   "outputs": [
    {
     "name": "stdout",
     "output_type": "stream",
     "text": [
      "The autoreload extension is already loaded. To reload it, use:\n",
      "  %reload_ext autoreload\n",
      "Using matplotlib backend: TkAgg\n"
     ]
    }
   ],
   "source": [
    "# Setup enviroment to autoreload packages\n",
    "%load_ext autoreload\n",
    "%autoreload 2\n",
    "# %matplotlib inline\n",
    "%matplotlib auto\n",
    "\n",
    "from matplotlib.pyplot import figure,plot,xlabel,ylabel,gca,show,close,axvline,xlim,ylim,savefig,legend,title\n",
    "\n",
    "# Import select nrutils packages\n",
    "from nrutils import scbuild,red,cyan,yellow,green,scsearch,gwylm"
   ]
  },
  {
   "cell_type": "code",
   "execution_count": 15,
   "metadata": {
    "collapsed": false,
    "scrolled": false
   },
   "outputs": [
    {
     "name": "stdout",
     "output_type": "stream",
     "text": [
      "[scsearch]>> Found \u001b[4mkeyword\u001b[0m (='hr-series') keyword.\n",
      "[scsearch]>> Found \u001b[4munique\u001b[0m (=True) keyword.\n",
      "[scsearch]>> Found \u001b[4mverbose\u001b[0m (=True) keyword.\n",
      "(\u001b[0;36mscsearch\u001b[0m)>> List of keywords or string keyword found: \u001b[0;36mALL scentry objects matching will be passed.\u001b[0m To pass ANY entries matching the keywords, input the keywords using an iterable of not of type list.\n",
      "## Found \u001b[1m70\u001b[0m\u001b[92m unique\u001b[0m simulations:\n",
      "[0001][\u001b[92mathena\u001b[0m] \u001b[0;36mHR-series\u001b[0m: s1-sa-q7.00\t(\u001b[0;36mD10_q7.00_a0.20_0.00_m320\u001b[0m)\n",
      "[0002][\u001b[92mathena\u001b[0m] \u001b[0;36mHR-series\u001b[0m: s1-sa-q7.00\t(\u001b[0;36mD10_q7.00_a0.40_0.00_m320\u001b[0m)\n",
      "[0003][\u001b[92mathena\u001b[0m] \u001b[0;36mHR-series\u001b[0m: ns-q7.00\t(\u001b[0;36mD10_q7.00_a0.00_0.00_m320\u001b[0m)\n",
      "[0004][\u001b[92mathena\u001b[0m] \u001b[0;36mHR-series\u001b[0m: s1-sa-q6.00\t(\u001b[0;36mD10_q6.00_a0.20_0.00_m200\u001b[0m)\n",
      "[0005][\u001b[92mathena\u001b[0m] \u001b[0;36mHR-series\u001b[0m: ns-q6.00\t(\u001b[0;36mD10_q6.00_a0.00_0.00_m280\u001b[0m)\n",
      "[0006][\u001b[92mathena\u001b[0m] \u001b[0;36mHR-series\u001b[0m: s1-sa-q6.00\t(\u001b[0;36mD10_q6.00_a0.60_0.00_m280\u001b[0m)\n",
      "[0007][\u001b[92mathena\u001b[0m] \u001b[0;36mHR-series\u001b[0m: s1-sa-q6.00\t(\u001b[0;36mD10_q6.00_a0.40_0.00_m280\u001b[0m)\n",
      "[0008][\u001b[92mathena\u001b[0m] \u001b[0;36mHR-series\u001b[0m: s1-sa-q5.00\t(\u001b[0;36mD10_q5.00_a0.2_0.0_m240\u001b[0m)\n",
      "[0009][\u001b[92mathena\u001b[0m] \u001b[0;36mHR-series\u001b[0m: s1-saa-q5.00\t(\u001b[0;36mD10_q5.00_a-0.6921_0.00_m240\u001b[0m)\n",
      "[0010][\u001b[92mathena\u001b[0m] \u001b[0;36mHR-series\u001b[0m: s1-saa-q5.00\t(\u001b[0;36mD10_q5.00_a-0.71_0.00_m240\u001b[0m)\n",
      "[0011][\u001b[92mathena\u001b[0m] \u001b[0;36mHR-series\u001b[0m: s1-saa-q5.00\t(\u001b[0;36mD10_q5.00_a-0.72_0.00_m240\u001b[0m)\n",
      "[0012][\u001b[92mathena\u001b[0m] \u001b[0;36mHR-series\u001b[0m: s1-saa-q5.00\t(\u001b[0;36mD10_q5.00_a-0.73_0.00_m240\u001b[0m)\n",
      "[0013][\u001b[92mathena\u001b[0m] \u001b[0;36mHR-series\u001b[0m: s1-saa-q5.00\t(\u001b[0;36mD10_q5.00_a-0.69_0.00_m240\u001b[0m)\n",
      "[0014][\u001b[92mathena\u001b[0m] \u001b[0;36mHR-series\u001b[0m: s1-saa-q5.00\t(\u001b[0;36mD10_q5.00_a-0.68_0.00_m240\u001b[0m)\n",
      "[0015][\u001b[92mathena\u001b[0m] \u001b[0;36mHR-series\u001b[0m: s1-sa-q5.00\t(\u001b[0;36mD10_q5.00_a0.4_0.0_m240\u001b[0m)\n",
      "[0016][\u001b[92mathena\u001b[0m] \u001b[0;36mHR-series\u001b[0m: s1-sa-q5.00\t(\u001b[0;36mD10_q5.00_a0.6_0.0_m240\u001b[0m)\n",
      "[0017][\u001b[92mathena\u001b[0m] \u001b[0;36mHR-series\u001b[0m: ns-q5.00\t(\u001b[0;36mD10_q5.00_a0.0_0.0_m240\u001b[0m)\n",
      "[0018][\u001b[92mathena\u001b[0m] \u001b[0;36mHR-series\u001b[0m: s1-sa-q4.00\t(\u001b[0;36mD10_q4.00_a0.6_0.0_m240\u001b[0m)\n",
      "[0019][\u001b[92mathena\u001b[0m] \u001b[0;36mHR-series\u001b[0m: s1-sa-q4.00\t(\u001b[0;36mD10_q4.00_a0.4_0.0_m240\u001b[0m)\n",
      "[0020][\u001b[92mathena\u001b[0m] \u001b[0;36mHR-series\u001b[0m: s1-sa-q4.00\t(\u001b[0;36mD10_q4.00_a0.2_0.0_m240\u001b[0m)\n",
      "[0021][\u001b[92mathena\u001b[0m] \u001b[0;36mHR-series\u001b[0m: ns-q4.00\t(\u001b[0;36mD11_q4.00_a0.0_m160\u001b[0m)\n",
      "[0022][\u001b[92mathena\u001b[0m] \u001b[0;36mHR-series\u001b[0m: s1-saa-q4.00\t(\u001b[0;36mD11_q4.00_a-0.8_0.0_m160\u001b[0m)\n",
      "[0023][\u001b[92mathena\u001b[0m] \u001b[0;36mHR-series\u001b[0m: s1-sa-q3.00\t(\u001b[0;36mD11_q3.00_a0.8_0.00_m200\u001b[0m)\n",
      "[0024][\u001b[92mathena\u001b[0m] \u001b[0;36mHR-series\u001b[0m: s1-sa-q3.00\t(\u001b[0;36mD11_q3.00_a0.2_0.00_m200\u001b[0m)\n",
      "[0025][\u001b[92mathena\u001b[0m] \u001b[0;36mHR-series\u001b[0m: ns-q3.00\t(\u001b[0;36mD11_q3.00_a0.0_m180\u001b[0m)\n",
      "[0026][\u001b[92mathena\u001b[0m] \u001b[0;36mHR-series\u001b[0m: sa-q2.00\t(\u001b[0;36mD11_q2.00_a0.4_m160\u001b[0m)\n",
      "[0027][\u001b[92mathena\u001b[0m] \u001b[0;36mHR-series\u001b[0m: sa-q2.00\t(\u001b[0;36mD11_q2.00_a0.2_m160\u001b[0m)\n",
      "[0028][\u001b[92mathena\u001b[0m] \u001b[0;36mHR-series\u001b[0m: ns-q2.00\t(\u001b[0;36mD11_q2.00_a0.0_m180\u001b[0m)\n",
      "[0029][\u001b[92mathena\u001b[0m] \u001b[0;36mHR-series\u001b[0m: saa-q2.00\t(\u001b[0;36mD11_q2.00_a-0.6_m200\u001b[0m)\n",
      "[0030][\u001b[92mathena\u001b[0m] \u001b[0;36mHR-series\u001b[0m: saa-q2.00\t(\u001b[0;36mD11_q2.00_a-0.4_m200\u001b[0m)\n",
      "[0031][\u001b[92mathena\u001b[0m] \u001b[0;36mHR-series\u001b[0m: saa-q2.00\t(\u001b[0;36mD11_q2.00_a-0.2_m200\u001b[0m)\n",
      "[0032][\u001b[92mathena\u001b[0m] \u001b[0;36mHR-series\u001b[0m: s1-sa-q2.50\t(\u001b[0;36mD11_q2.50_a0.4_0.00_m160\u001b[0m)\n",
      "[0033][\u001b[92mathena\u001b[0m] \u001b[0;36mHR-series\u001b[0m: s1-sa-q2.50\t(\u001b[0;36mD11_q2.50_a0.2_0.00_m160\u001b[0m)\n",
      "[0034][\u001b[92mathena\u001b[0m] \u001b[0;36mHR-series\u001b[0m: ns-q2.50\t(\u001b[0;36mD11_q2.50_a0.0_m200\u001b[0m)\n",
      "[0035][\u001b[92mathena\u001b[0m] \u001b[0;36mHR-series\u001b[0m: saa-q2.50\t(\u001b[0;36mD11_q2.50_a-0.6_m200\u001b[0m)\n",
      "[0036][\u001b[92mathena\u001b[0m] \u001b[0;36mHR-series\u001b[0m: saa-q2.50\t(\u001b[0;36mD11_q2.50_a-0.4_m200\u001b[0m)\n",
      "[0037][\u001b[92mathena\u001b[0m] \u001b[0;36mHR-series\u001b[0m: saa-q2.50\t(\u001b[0;36mD11_q2.50_a-0.2_m200\u001b[0m)\n",
      "[0038][\u001b[92mathena\u001b[0m] \u001b[0;36mHR-series\u001b[0m: ns-q2.25\t(\u001b[0;36mD11_q2.25_a0.0_m200\u001b[0m)\n",
      "[0039][\u001b[92mathena\u001b[0m] \u001b[0;36mHR-series\u001b[0m: ns-q15.04\t(\u001b[0;36mD7.5_q15.00_a0.0_CHgEEB_m800\u001b[0m)\n",
      "[0040][\u001b[92mathena\u001b[0m] \u001b[0;36mHR-series\u001b[0m: ns-q10.00\t(\u001b[0;36mD8.4_q10.00_a0.0_m400\u001b[0m)\n",
      "[0041][\u001b[92mathena\u001b[0m] \u001b[0;36mHR-series\u001b[0m: sa-q1.00\t(\u001b[0;36mD11_q1.00_a0.8_m160\u001b[0m)\n",
      "[0042][\u001b[92mathena\u001b[0m] \u001b[0;36mHR-series\u001b[0m: sa-q1.00\t(\u001b[0;36mD11_q1.00_a0.7_m200\u001b[0m)\n",
      "[0043][\u001b[92mathena\u001b[0m] \u001b[0;36mHR-series\u001b[0m: sa-q1.00\t(\u001b[0;36mD11_q1.00_a0.5_m200\u001b[0m)\n",
      "[0044][\u001b[92mathena\u001b[0m] \u001b[0;36mHR-series\u001b[0m: sa-q1.00\t(\u001b[0;36mD11_q1.00_a0.4_m200\u001b[0m)\n",
      "[0045][\u001b[92mathena\u001b[0m] \u001b[0;36mHR-series\u001b[0m: sa-q1.00\t(\u001b[0;36mD11_q1.00_a0.3_m200\u001b[0m)\n",
      "[0046][\u001b[92mathena\u001b[0m] \u001b[0;36mHR-series\u001b[0m: sa-q1.00\t(\u001b[0;36mD11_q1.00_a0.2_m200\u001b[0m)\n",
      "[0047][\u001b[92mathena\u001b[0m] \u001b[0;36mHR-series\u001b[0m: sa-q1.00\t(\u001b[0;36mD11_q1.00_a0.20_0.80_m160\u001b[0m)\n",
      "[0048][\u001b[92mathena\u001b[0m] \u001b[0;36mHR-series\u001b[0m: sa-q1.00\t(\u001b[0;36mD11_q1.00_a0.20_0.60_m160\u001b[0m)\n",
      "[0049][\u001b[92mathena\u001b[0m] \u001b[0;36mHR-series\u001b[0m: sa-q1.00\t(\u001b[0;36mD11_q1.00_a0.20_0.40_m160\u001b[0m)\n",
      "[0050][\u001b[92mathena\u001b[0m] \u001b[0;36mHR-series\u001b[0m: sa-q1.00\t(\u001b[0;36mD11_q1.00_a0.1_m200\u001b[0m)\n",
      "[0051][\u001b[92mathena\u001b[0m] \u001b[0;36mHR-series\u001b[0m: ns-q1.00\t(\u001b[0;36mD11_q1.00_a0.0_m120\u001b[0m)\n",
      "[0052][\u001b[92mathena\u001b[0m] \u001b[0;36mHR-series\u001b[0m: s1-sa-q1.00\t(\u001b[0;36mD11_q1.00_a0.00_0.80_m160\u001b[0m)\n",
      "[0053][\u001b[92mathena\u001b[0m] \u001b[0;36mHR-series\u001b[0m: s1-sa-q1.00\t(\u001b[0;36mD11_q1.00_a0.00_0.60_m160\u001b[0m)\n",
      "[0054][\u001b[92mathena\u001b[0m] \u001b[0;36mHR-series\u001b[0m: s1-sa-q1.00\t(\u001b[0;36mD11_q1.00_a0.00_0.40_m160\u001b[0m)\n",
      "[0055][\u001b[92mathena\u001b[0m] \u001b[0;36mHR-series\u001b[0m: s1-sa-q1.00\t(\u001b[0;36mD11_q1.00_a0.00_0.20_m160\u001b[0m)\n",
      "[0056][\u001b[92mathena\u001b[0m] \u001b[0;36mHR-series\u001b[0m: saa-q1.00\t(\u001b[0;36mD11_q1.00_a-0.4_m200\u001b[0m)\n",
      "[0057][\u001b[92mathena\u001b[0m] \u001b[0;36mHR-series\u001b[0m: saa-q1.00\t(\u001b[0;36mD11_q1.00_a-0.2_m200\u001b[0m)\n",
      "[0058][\u001b[92mathena\u001b[0m] \u001b[0;36mHR-series\u001b[0m: ns-q1.75\t(\u001b[0;36mD11_q1.75_a0.0_m200\u001b[0m)\n",
      "[0059][\u001b[92mathena\u001b[0m] \u001b[0;36mHR-series\u001b[0m: sa-q1.50\t(\u001b[0;36mD9_q1.50_a0.1_m200\u001b[0m)\n",
      "[0060][\u001b[92mathena\u001b[0m] \u001b[0;36mHR-series\u001b[0m: sa-q1.50\t(\u001b[0;36mD11_q1.50_a0.4_m200\u001b[0m)\n",
      "[0061][\u001b[92mathena\u001b[0m] \u001b[0;36mHR-series\u001b[0m: sa-q1.50\t(\u001b[0;36mD11_q1.50_a0.2_m200\u001b[0m)\n",
      "[0062][\u001b[92mathena\u001b[0m] \u001b[0;36mHR-series\u001b[0m: ns-q1.50\t(\u001b[0;36mD11_q1.50_a0.0_m200\u001b[0m)\n",
      "[0063][\u001b[92mathena\u001b[0m] \u001b[0;36mHR-series\u001b[0m: saa-q1.50\t(\u001b[0;36mD11_q1.50_a-0.6_m200\u001b[0m)\n",
      "[0064][\u001b[92mathena\u001b[0m] \u001b[0;36mHR-series\u001b[0m: saa-q1.50\t(\u001b[0;36mD11_q1.50_a-0.4_m200\u001b[0m)\n",
      "[0065][\u001b[92mathena\u001b[0m] \u001b[0;36mHR-series\u001b[0m: saa-q1.50\t(\u001b[0;36mD11_q1.50_a-0.2_m200\u001b[0m)\n",
      "[0066][\u001b[92mathena\u001b[0m] \u001b[0;36mHR-series\u001b[0m: ns-q1.25\t(\u001b[0;36mD11_q1.25_a0.0_m200\u001b[0m)\n",
      "[0067][\u001b[92mathena\u001b[0m] \u001b[0;36mHR-series\u001b[0m: s1-sa-q2.00\t(\u001b[0;36mD12_q2.00_a0.30_0.00_m120\u001b[0m)\n",
      "[0068][\u001b[92mathena\u001b[0m] \u001b[0;36mHR-series\u001b[0m: sa-q1.00\t(\u001b[0;36mD12_q1.00_a0.60_m080\u001b[0m)\n",
      "[0069][\u001b[92mathena\u001b[0m] \u001b[0;36mHR-series\u001b[0m: sa-q2.00\t(\u001b[0;36mD11_q2.00_a0.60_m080\u001b[0m)\n",
      "[0070][\u001b[92mathena\u001b[0m] \u001b[0;36mHR-series\u001b[0m: p-q2.00\t(\u001b[0;36mD12_q2.00_a0.15_-0.60_m120\u001b[0m)\n",
      "\n"
     ]
    }
   ],
   "source": [
    "# Look for simulations\n",
    "A = scsearch(keyword='hr-series',verbose=True,unique=True)"
   ]
  },
  {
   "cell_type": "code",
   "execution_count": 16,
   "metadata": {
    "collapsed": false
   },
   "outputs": [
    {
     "name": "stdout",
     "output_type": "stream",
     "text": [
      "(\u001b[0;36mgwylm\u001b[0m)>> Found \u001b[4mclean\u001b[0m (=True) keyword.\n",
      "(\u001b[0;36mgwylm\u001b[0m)>> Found \u001b[4mlm\u001b[0m (=([2, 2], [3, 3], [4, 4], [5, 5], [2, 1], [3, 2])) keyword.\n",
      "(\u001b[0;36mgwylm\u001b[0m)>> Found \u001b[4mload\u001b[0m (=True) keyword.\n",
      "(\u001b[0;36mgwylm\u001b[0m)>> Found \u001b[4mlowpass\u001b[0m (=False) keyword.\n",
      "(\u001b[0;36mgwylm\u001b[0m)>> Found \u001b[4mscentry_obj\u001b[0m (=<nrutils.core.nrsc.scentry instance at 0x10f589a70>) keyword.\n",
      "(\u001b[0;36mgwylm\u001b[0m)>> Found \u001b[4mverbose\u001b[0m (=True) keyword.\n",
      "(\u001b[0;36mload\u001b[0m)>> Loading: \u001b[0;36mYlm_WEYLSCAL4::Psi4r_l2_m2_r75.00.asc\u001b[0m\n",
      "(\u001b[0;36mload\u001b[0m)>> \u001b[0;33mRe-orienting waveform phase\u001b[0m to be consistent with internal sign convention for Psi4, where sign(dPhi/dt)=1*sign(m). Note that the internal sign convention is defined in ... nrutils/core/__init__.py as \"M_RELATIVE_SIGN_CONVENTION\". This message has appeared becuase the waveform is determioned to obey and sign convention: sign(dPhi/dt)=-1*sign(m).\n",
      "(\u001b[0;36mload\u001b[0m)>> Loading: \u001b[0;36mYlm_WEYLSCAL4::Psi4r_l3_m3_r75.00.asc\u001b[0m\n",
      "(\u001b[0;36mload\u001b[0m)>> \u001b[0;33mRe-orienting waveform phase\u001b[0m to be consistent with internal sign convention for Psi4, where sign(dPhi/dt)=1*sign(m). Note that the internal sign convention is defined in ... nrutils/core/__init__.py as \"M_RELATIVE_SIGN_CONVENTION\". This message has appeared becuase the waveform is determioned to obey and sign convention: sign(dPhi/dt)=-1*sign(m).\n",
      "(\u001b[0;36mload\u001b[0m)>> Loading: \u001b[0;36mYlm_WEYLSCAL4::Psi4r_l4_m4_r75.00.asc\u001b[0m\n",
      "(\u001b[0;36mload\u001b[0m)>> \u001b[0;33mRe-orienting waveform phase\u001b[0m to be consistent with internal sign convention for Psi4, where sign(dPhi/dt)=1*sign(m). Note that the internal sign convention is defined in ... nrutils/core/__init__.py as \"M_RELATIVE_SIGN_CONVENTION\". This message has appeared becuase the waveform is determioned to obey and sign convention: sign(dPhi/dt)=-1*sign(m).\n",
      "(\u001b[0;36mload\u001b[0m)>> Loading: \u001b[0;36mYlm_WEYLSCAL4::Psi4r_l5_m5_r75.00.asc\u001b[0m\n",
      "(\u001b[0;36mload\u001b[0m)>> \u001b[0;33mRe-orienting waveform phase\u001b[0m to be consistent with internal sign convention for Psi4, where sign(dPhi/dt)=1*sign(m). Note that the internal sign convention is defined in ... nrutils/core/__init__.py as \"M_RELATIVE_SIGN_CONVENTION\". This message has appeared becuase the waveform is determioned to obey and sign convention: sign(dPhi/dt)=-1*sign(m).\n",
      "(\u001b[0;36mload\u001b[0m)>> Loading: \u001b[0;36mYlm_WEYLSCAL4::Psi4r_l2_m1_r75.00.asc\u001b[0m\n",
      "(\u001b[0;36mload\u001b[0m)>> \u001b[0;33mRe-orienting waveform phase\u001b[0m to be consistent with internal sign convention for Psi4, where sign(dPhi/dt)=1*sign(m). Note that the internal sign convention is defined in ... nrutils/core/__init__.py as \"M_RELATIVE_SIGN_CONVENTION\". This message has appeared becuase the waveform is determioned to obey and sign convention: sign(dPhi/dt)=-1*sign(m).\n",
      "(\u001b[0;36mload\u001b[0m)>> Loading: \u001b[0;36mYlm_WEYLSCAL4::Psi4r_l3_m2_r75.00.asc\u001b[0m\n",
      "(\u001b[0;36mload\u001b[0m)>> \u001b[0;33mRe-orienting waveform phase\u001b[0m to be consistent with internal sign convention for Psi4, where sign(dPhi/dt)=1*sign(m). Note that the internal sign convention is defined in ... nrutils/core/__init__.py as \"M_RELATIVE_SIGN_CONVENTION\". This message has appeared becuase the waveform is determioned to obey and sign convention: sign(dPhi/dt)=-1*sign(m).\n",
      "(\u001b[0;36mgwylm\u001b[0m)>> Using w22 from a \u001b[1m\u001b[1;35mPN estimate\u001b[0m\u001b[0m to calculate strain multipoles [see pnw0 in basics.py, and/or arxiv:1310.1528v4].\n",
      "\u001b[1;35m* w0(w22) = 0.043995\u001b[0m\u001b[0;33m (this is the lower frequency used for FFI method [arxiv:1006.1632v3])\u001b[0m\n",
      "(\u001b[0;36mgwylm.calchlm\u001b[0m)>> \u001b[0;33mThe user should note that there is no minus sign used in front of the double time integral for strain (i.e. Eq 4 of arxiv:1006.1632). This differs from Eq 3.4 of arxiv:0707.4654v3. The net effect is a rotation of the overall polarization of pi degrees. The user should also note that there is no minus sign applied to h_cross meaning that the user must be mindful to write h_pluss-1j*h_cross when appropriate.\u001b[0m\n",
      "\u001b[1;35m* w0(w22) = 0.065993\u001b[0m\u001b[0;33m (this is the lower frequency used for FFI method [arxiv:1006.1632v3])\u001b[0m\n",
      "(\u001b[0;36mgwylm.calchlm\u001b[0m)>> \u001b[0;33mThe user should note that there is no minus sign used in front of the double time integral for strain (i.e. Eq 4 of arxiv:1006.1632). This differs from Eq 3.4 of arxiv:0707.4654v3. The net effect is a rotation of the overall polarization of pi degrees. The user should also note that there is no minus sign applied to h_cross meaning that the user must be mindful to write h_pluss-1j*h_cross when appropriate.\u001b[0m\n",
      "\u001b[1;35m* w0(w22) = 0.087991\u001b[0m\u001b[0;33m (this is the lower frequency used for FFI method [arxiv:1006.1632v3])\u001b[0m\n",
      "(\u001b[0;36mgwylm.calchlm\u001b[0m)>> \u001b[0;33mThe user should note that there is no minus sign used in front of the double time integral for strain (i.e. Eq 4 of arxiv:1006.1632). This differs from Eq 3.4 of arxiv:0707.4654v3. The net effect is a rotation of the overall polarization of pi degrees. The user should also note that there is no minus sign applied to h_cross meaning that the user must be mindful to write h_pluss-1j*h_cross when appropriate.\u001b[0m\n",
      "\u001b[1;35m* w0(w22) = 0.109989\u001b[0m\u001b[0;33m (this is the lower frequency used for FFI method [arxiv:1006.1632v3])\u001b[0m\n",
      "(\u001b[0;36mgwylm.calchlm\u001b[0m)>> \u001b[0;33mThe user should note that there is no minus sign used in front of the double time integral for strain (i.e. Eq 4 of arxiv:1006.1632). This differs from Eq 3.4 of arxiv:0707.4654v3. The net effect is a rotation of the overall polarization of pi degrees. The user should also note that there is no minus sign applied to h_cross meaning that the user must be mindful to write h_pluss-1j*h_cross when appropriate.\u001b[0m\n",
      "\u001b[1;35m* w0(w22) = 0.021998\u001b[0m\u001b[0;33m (this is the lower frequency used for FFI method [arxiv:1006.1632v3])\u001b[0m\n",
      "(\u001b[0;36mgwylm.calchlm\u001b[0m)>> \u001b[0;33mThe user should note that there is no minus sign used in front of the double time integral for strain (i.e. Eq 4 of arxiv:1006.1632). This differs from Eq 3.4 of arxiv:0707.4654v3. The net effect is a rotation of the overall polarization of pi degrees. The user should also note that there is no minus sign applied to h_cross meaning that the user must be mindful to write h_pluss-1j*h_cross when appropriate.\u001b[0m\n",
      "\u001b[1;35m* w0(w22) = 0.043995\u001b[0m\u001b[0;33m (this is the lower frequency used for FFI method [arxiv:1006.1632v3])\u001b[0m\n",
      "(\u001b[0;36mgwylm.calchlm\u001b[0m)>> \u001b[0;33mThe user should note that there is no minus sign used in front of the double time integral for strain (i.e. Eq 4 of arxiv:1006.1632). This differs from Eq 3.4 of arxiv:0707.4654v3. The net effect is a rotation of the overall polarization of pi degrees. The user should also note that there is no minus sign applied to h_cross meaning that the user must be mindful to write h_pluss-1j*h_cross when appropriate.\u001b[0m\n"
     ]
    }
   ],
   "source": [
    "y = gwylm( A[28], lm=([2,2],[3,3],[4,4],[5,5],[2,1],[3,2]), verbose=True,clean=True )"
   ]
  },
  {
   "cell_type": "code",
   "execution_count": 17,
   "metadata": {
    "collapsed": false
   },
   "outputs": [],
   "source": [
    "\n",
    "h22 = y.lm[2,2]['strain']"
   ]
  },
  {
   "cell_type": "code",
   "execution_count": 20,
   "metadata": {
    "collapsed": false
   },
   "outputs": [
    {
     "data": {
      "text/plain": [
       "<matplotlib.text.Text at 0x111dd8450>"
      ]
     },
     "execution_count": 20,
     "metadata": {},
     "output_type": "execute_result"
    }
   ],
   "source": [
    "close('all')\n",
    "figure()\n",
    "from kerr import leaver,rgb\n",
    "from numpy.linalg import norm\n",
    "from numpy import pi\n",
    "\n",
    "clr = rgb(len(y.hlm))\n",
    "for k,h in enumerate(y.hlm):\n",
    "    mask = h.f<h.m*0.118/2\n",
    "    plot( h.f[mask], h.fd_dphi[mask], alpha=0.6, color=clr[k], label='(%i,%i)'%(h.l,h.m) )\n",
    "    plot( (h.m/2)*h22.f[h22.f<0.118], h22.fd_dphi[h22.f<0.118], '--k',alpha=0.5, label='(2,2)->(%i,%i)'%(h.l,h.m) )\n",
    "    cw = leaver( norm(h.xf), h.l, h.m, 0, Mf=h.mf )[0]\n",
    "    axvline( cw.real/(2*pi), color=clr[k] )\n",
    "gca().set_xscale(\"log\", nonposy='clip')\n",
    "# xlim([0.02,0.24])\n",
    "# ylim([2500,3400])\n",
    "xlabel('$f (1/M)$')\n",
    "ylabel('$d\\phi/df$')\n",
    "# legend()\n",
    "title(y.label)\n",
    "\n",
    "# savefig('/Users/book/Desktop/fd_dphi_comparison_%s.pdf'%y.label)\n"
   ]
  },
  {
   "cell_type": "code",
   "execution_count": 35,
   "metadata": {
    "collapsed": false
   },
   "outputs": [
    {
     "name": "stdout",
     "output_type": "stream",
     "text": [
      "[ -1.22215271e-09   3.00107260e-09   6.56477666e-01]\n"
     ]
    }
   ],
   "source": [
    "print h.xf"
   ]
  },
  {
   "cell_type": "code",
   "execution_count": null,
   "metadata": {
    "collapsed": true
   },
   "outputs": [],
   "source": []
  }
 ],
 "metadata": {
  "kernelspec": {
   "display_name": "Python [Root]",
   "language": "python",
   "name": "Python [Root]"
  },
  "language_info": {
   "codemirror_mode": {
    "name": "ipython",
    "version": 2
   },
   "file_extension": ".py",
   "mimetype": "text/x-python",
   "name": "python",
   "nbconvert_exporter": "python",
   "pygments_lexer": "ipython2",
   "version": "2.7.12"
  }
 },
 "nbformat": 4,
 "nbformat_minor": 0
}
