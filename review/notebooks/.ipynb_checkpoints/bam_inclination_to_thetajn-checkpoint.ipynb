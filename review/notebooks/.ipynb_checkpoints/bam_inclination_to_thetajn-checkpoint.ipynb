{
 "cells": [
  {
   "cell_type": "markdown",
   "metadata": {},
   "source": [
    "---\n",
    "##      Load a BAM hdf5 file, and given an inclination value, determine the angle $\\theta_{\\mathrm{JN}}$\n",
    "---\n",
    "The goal of this script is to take in INCLINATION and then output $\\theta_{\\mathrm{JN}}$\n"
   ]
  },
  {
   "cell_type": "code",
   "execution_count": 46,
   "metadata": {
    "collapsed": false,
    "scrolled": false
   },
   "outputs": [],
   "source": [
    "# Import useful standard things\n",
    "from os import system, remove, makedirs, path\n",
    "from os.path import dirname, basename, isdir, realpath\n",
    "from numpy import array,ones,pi,dot,cos,sin,savetxt\n",
    "from numpy import arccos as acos\n",
    "from numpy.linalg import norm\n",
    "from matplotlib.pyplot import *\n",
    "from os.path import expanduser\n",
    "# Import nrutils (See: https://github.com/llondon6/nrutils_dev)\n",
    "from nrutils import alert,nr2h5,scsearch,gwylm,alert\n",
    "from nrutils.tools.unit.conversion import *"
   ]
  },
  {
   "cell_type": "markdown",
   "metadata": {},
   "source": [
    "Use nrutils to locate the simulation of interest."
   ]
  },
  {
   "cell_type": "code",
   "execution_count": 20,
   "metadata": {
    "collapsed": false
   },
   "outputs": [
    {
     "name": "stdout",
     "output_type": "stream",
     "text": [
      "[scsearch]>> Found \u001b[4mkeyword\u001b[0m (='q1.2_dc2dcp2') keyword.\n",
      "[scsearch]>> Found \u001b[4munique\u001b[0m (=True) keyword.\n",
      "[scsearch]>> Found \u001b[4mverbose\u001b[0m (=True) keyword.\n",
      "## Found \u001b[1m1\u001b[0m\u001b[92m unique\u001b[0m simulations:\n",
      "[0001] \u001b[96mq1.2_dc2dcp2\u001b[0m: p-q1.20\n",
      "\n"
     ]
    }
   ],
   "source": [
    "Y = scsearch(keyword='q1.2_dc2dcp2',verbose=True,unique=True)[0]"
   ]
  },
  {
   "cell_type": "markdown",
   "metadata": {},
   "source": [
    "Define function for $\\theta_{\\mathrm{JN}}$ calculation"
   ]
  },
  {
   "cell_type": "code",
   "execution_count": 27,
   "metadata": {
    "collapsed": false
   },
   "outputs": [],
   "source": [
    "def iota2thetajn(A,                # scnetry object from nrutils\n",
    "                 IOTA,             # The angle between L and the line of sight \n",
    "                 verbose=False):   # be verbose toggle\n",
    "    \n",
    "    # Import useful things\n",
    "    from numpy import array,ones,pi,dot,cos,sin,vstack,hstack\n",
    "    from numpy import arccos as acos\n",
    "    from numpy.linalg import norm\n",
    "    \n",
    "    # Extract L, S, and J (NOTE: these are after-junk quantities)\n",
    "    L = A.L1 + A.L2\n",
    "    S = A.S1 + A.S2 \n",
    "    J = L + S\n",
    "\n",
    "    # Calculate the direction of J and L using the loaded information\n",
    "    info = A.raw_metadata\n",
    "    L_bbh = array( [ info.initial_angular_momentumx, info.initial_angular_momentumy, info.initial_angular_momentumz ] )\n",
    "    S1 = array( [ info.after_junkradiation_spin1x, info.after_junkradiation_spin1y, info.after_junkradiation_spin1z ] )\n",
    "    S2 = array( [ info.after_junkradiation_spin2x, info.after_junkradiation_spin2y, info.after_junkradiation_spin2z ] )\n",
    "    S = S1+S2\n",
    "    J_bbh = L_bbh+S\n",
    "\n",
    "    # The magnitude of For now, apply norm(L_bbh)\n",
    "\n",
    "    if False: # verbose:\n",
    "        print 'L from the bbh files is %s' % L_bbh\n",
    "        print 'L after junk from nrutils is %s' % L\n",
    "        print 40*'--'\n",
    "\n",
    "    # Find unit vectors\n",
    "    L_hat = L / norm(L)\n",
    "    J_hat = J / norm(J)\n",
    "\n",
    "    # Extract oribital separation (NOTE: this is also referenced after-junk)\n",
    "    n_hat = ( A.R1 - A.R2 ) / norm( A.R1 - A.R2 )\n",
    "\n",
    "    #\n",
    "    theta = IOTA\n",
    "\n",
    "    # per LAL convention\n",
    "    u_hat = [1,0,0]\n",
    "\n",
    "    #\n",
    "    phi = acos( dot( n_hat,u_hat ) )\n",
    "\n",
    "    #\n",
    "    N_hat = array( [  cos(phi)*sin(theta), sin(phi)*sin(theta), cos(theta)  ] )\n",
    "\n",
    "    #\n",
    "    theta_JN = acos( dot(N_hat,J_hat) )\n",
    "    theta_LN = acos( dot(N_hat,L_hat) )\n",
    "    theta_JL = acos( dot(J_hat,L_hat) )\n",
    "\n",
    "    #\n",
    "    if verbose:\n",
    "        print '(iota,theta_JN) = (%1.4f,%1.4f)' % (IOTA*180/pi,theta_JN*180/pi)\n",
    "    if False: # verbose:\n",
    "        print 'phi = %1.4f' % phi\n",
    "        print 'n_hat = %s' % n_hat\n",
    "        print 'N_hat = %s' % N_hat\n",
    "        print 'L_hat = %s' % L_hat\n",
    "        print 'J_hat = %s' % J_hat\n",
    "        print 'theta_JN = %1.4f degrees' % (theta_JN*180/pi)\n",
    "        print 'theta_LN = %1.4f degrees' % (theta_LN*180/pi)\n",
    "        print 'theta_JL = %1.4f degrees' % (theta_JL*180/pi)\n",
    "        print 'theta_JZ = %1.4f degrees' % ( acos(dot(J_hat,[0,0,1])) )\n",
    "        \n",
    "    #\n",
    "    return theta_JN\n"
   ]
  },
  {
   "cell_type": "markdown",
   "metadata": {
    "collapsed": true
   },
   "source": [
    "Define inclinations of interest. "
   ]
  },
  {
   "cell_type": "code",
   "execution_count": 30,
   "metadata": {
    "collapsed": false
   },
   "outputs": [
    {
     "name": "stdout",
     "output_type": "stream",
     "text": [
      "[ 0.          0.39269908  0.78539816  1.17809725  1.57079633  1.96349541\n",
      "  2.35619449  2.74889357  3.14159265]\n"
     ]
    }
   ],
   "source": [
    "NUM = 9 # Number of points in iota to use \n",
    "iota = array(  [ (k*pi/(NUM-1.0)) for k in range(0,NUM) ]  )\n",
    "print iota"
   ]
  },
  {
   "cell_type": "markdown",
   "metadata": {},
   "source": [
    "Evaluate above function for the given list of runs (scentry objects)."
   ]
  },
  {
   "cell_type": "code",
   "execution_count": 40,
   "metadata": {
    "collapsed": false
   },
   "outputs": [
    {
     "name": "stdout",
     "output_type": "stream",
     "text": [
      "(iota,theta_JN) = (0.0000,5.3149)\n",
      "(iota,theta_JN) = (22.5000,24.9079)\n",
      "(iota,theta_JN) = (45.0000,47.1415)\n",
      "(iota,theta_JN) = (67.5000,69.5223)\n",
      "(iota,theta_JN) = (90.0000,91.9350)\n",
      "(iota,theta_JN) = (112.5000,114.3452)\n",
      "(iota,theta_JN) = (135.0000,136.7142)\n",
      "(iota,theta_JN) = (157.5000,158.8802)\n",
      "(iota,theta_JN) = (180.0000,174.6851)\n"
     ]
    }
   ],
   "source": [
    "theta_JN = array(  [ iota2thetajn(Y,k,verbose=True) for k in iota ]  )"
   ]
  },
  {
   "cell_type": "markdown",
   "metadata": {},
   "source": [
    "Make array of iota and $\\theta_{\\mathrm{JN}}$ values"
   ]
  },
  {
   "cell_type": "code",
   "execution_count": 44,
   "metadata": {
    "collapsed": false
   },
   "outputs": [
    {
     "name": "stdout",
     "output_type": "stream",
     "text": [
      "[[ 0.          0.09276337]\n",
      " [ 0.39269908  0.43472526]\n",
      " [ 0.78539816  0.82277365]\n",
      " [ 1.17809725  1.2133932 ]\n",
      " [ 1.57079633  1.60456847]\n",
      " [ 1.96349541  1.99570061]\n",
      " [ 2.35619449  2.38611276]\n",
      " [ 2.74889357  2.77298228]\n",
      " [ 3.14159265  3.04882929]]\n"
     ]
    }
   ],
   "source": [
    "output_data = array( [iota,theta_JN] ).T\n",
    "print output_data"
   ]
  },
  {
   "cell_type": "markdown",
   "metadata": {},
   "source": [
    "Save the array to a txt file."
   ]
  },
  {
   "cell_type": "code",
   "execution_count": 49,
   "metadata": {
    "collapsed": false
   },
   "outputs": [],
   "source": [
    "output_file_path = '/Users/book/GARREG/REPOS/cbc_svn_nr_systematics/nr_systematics/scripts/thetaJN_'+Y.setname+'.txt'\n",
    "savetxt( output_file_path, output_data, fmt='%1.8f', delimiter='\\t' )"
   ]
  },
  {
   "cell_type": "code",
   "execution_count": null,
   "metadata": {
    "collapsed": true
   },
   "outputs": [],
   "source": []
  }
 ],
 "metadata": {
  "kernelspec": {
   "display_name": "Python 2",
   "language": "python",
   "name": "python2"
  },
  "language_info": {
   "codemirror_mode": {
    "name": "ipython",
    "version": 2
   },
   "file_extension": ".py",
   "mimetype": "text/x-python",
   "name": "python",
   "nbconvert_exporter": "python",
   "pygments_lexer": "ipython2",
   "version": "2.7.10"
  }
 },
 "nbformat": 4,
 "nbformat_minor": 0
}
